{
 "cells": [
  {
   "cell_type": "markdown",
   "id": "f2724c97",
   "metadata": {},
   "source": [
    "# PHY 3310 - Quantum Mechanics\n",
    "# Multiparticle states and entanglement\n",
    "-----------------------------------------------------------"
   ]
  },
  {
   "cell_type": "markdown",
   "id": "25d78a42",
   "metadata": {},
   "source": [
    "Our focus in this tutorial is multiparticle states and \"spooky\" entanglement. Spoiler alert: it's probably not <i>as</i> spooky as some would have you believe. Here we will finally begin to utilize more than one qubit and set up quantum gates which act on two qubits."
   ]
  },
  {
   "cell_type": "code",
   "execution_count": 2,
   "id": "9a5f808d",
   "metadata": {},
   "outputs": [],
   "source": [
    "import numpy as np\n",
    "from matplotlib import pyplot as plt\n",
    "from qiskit import *"
   ]
  },
  {
   "cell_type": "markdown",
   "id": "66935149",
   "metadata": {},
   "source": [
    "Let's introduce the Hadamard gate: $\\hat{H}\\left|+\\right\\rangle = \\left|+\\right\\rangle_{x}$, $\\hat{H}\\left|-\\right\\rangle = \\left|-\\right\\rangle_{x}$. Note the unfortunate double duty played by $\\hat{H}$ in representing the Hadamard operation <i>as well as</i> the Hamiltonian. Fortunately, we're not going to deal with dynamics here, so there's no need to invoke a Hamiltonian. In situations where both are present (time evolution of multiparticle states, perhaps), I'll generally use slightly different flavors of \"H\" (e.g., $\\mathcal{H}$ might denote the Hamiltonian). \n",
    "\n",
    "The Hadamard operation has the following matrix representation:\n",
    "\n",
    "$\\displaystyle \\hat{H} \\dot{=} \\frac{1}{\\sqrt{2}}\\left(\\begin{array}{cc} 1 & 1 \\\\ 1 & -1\\end{array}\\right)$\n",
    "\n",
    "Note, however, that this is just a $\\hat{U}$ gate with $\\theta = \\frac{\\pi}{2}$, $\\phi = 0$, $\\lambda = \\pi$ where\n",
    "\n",
    "$\\displaystyle \\hat{U}(\\theta,\\phi,\\lambda) = \\left(\\begin{array}{cc} \\cos\\frac{\\theta}{2} & -e^{i\\lambda}\\sin\\frac{\\theta}{2}\\\\ e^{i\\phi}\\sin\\frac{\\theta}{2} & e^{-i(\\phi + \\lambda)}\\cos\\frac{\\theta}{2}\\end{array}\\right)$.\n",
    "\n",
    "Because this particular gate (which takes the states $\\left|\\pm\\right\\rangle$ to $\\left|\\pm\\right\\rangle_{x}$, respectively) is so commonly used, it's often invoked as ```h(qr)``` directly instead of using ```u(0.5*np.pi,0,np.pi)```.\n",
    "\n",
    "One can quickly verify that this gate does take $\\left|+\\right\\rangle$ to $\\left|+\\right\\rangle_{x}$ by applying it to newly initialized qubits and measuring $\\hat{S}^{z}$."
   ]
  },
  {
   "cell_type": "code",
   "execution_count": 5,
   "id": "5e92ee54",
   "metadata": {},
   "outputs": [
    {
     "data": {
      "image/png": "[encoded data removed]",
      "text/plain": [
       "<Figure size 371.107x200.667 with 1 Axes>"
      ]
     },
     "execution_count": 5,
     "metadata": {},
     "output_type": "execute_result"
    }
   ],
   "source": [
    "qr = QuantumRegister(1)\n",
    "cr = ClassicalRegister(1,'c')\n",
    "\n",
    "hcirc = QuantumCircuit(qr,cr)\n",
    "hcirc.h(0)\n",
    "hcirc.barrier(range(1))\n",
    "hcirc.measure(qr, cr)\n",
    "hcirc.draw('mpl')"
   ]
  },
  {
   "cell_type": "code",
   "execution_count": 7,
   "id": "049511aa",
   "metadata": {},
   "outputs": [
    {
     "data": {
      "image/png": "[encoded data removed]",
      "text/plain": [
       "<Figure size 640x480 with 1 Axes>"
      ]
     },
     "execution_count": 7,
     "metadata": {},
     "output_type": "execute_result"
    }
   ],
   "source": [
    "from qiskit.primitives import StatevectorSampler\n",
    "\n",
    "sampler = StatevectorSampler()\n",
    "\n",
    "nshots = 8192\n",
    "\n",
    "pub = (hcirc)\n",
    "job = sampler.run([pub], shots=nshots)\n",
    "\n",
    "result = job.result()[0]\n",
    "\n",
    "counts = result.data.c.get_counts()\n",
    "\n",
    "from qiskit.visualization import plot_histogram\n",
    "plot_histogram(counts)"
   ]
  },
  {
   "cell_type": "markdown",
   "id": "1fecf8c4",
   "metadata": {},
   "source": [
    "As expected, we find half the states to be $\\left|+\\right\\rangle$ and the other half to be $\\left|-\\right\\rangle$, entirely consistent with the Hadamard gate creating $\\left|+\\right\\rangle_{x}$ from the initialized $\\left|+\\right\\rangle$ states.\n",
    "\n",
    "Now let's talk <i>entanglement</i>, and try to create the following state:\n",
    "\n",
    "$\\left|\\psi\\right\\rangle = \\frac{1}{\\sqrt{2}}\\left(\\left|+\\right\\rangle\\left|-\\right\\rangle - \\left|-\n",
    "\\right\\rangle\\left|+\\right\\rangle \\right),$\n",
    "\n",
    "also sometimes written $\\frac{1}{\\sqrt{2}}\\left(\\left|+-\\right\\rangle - \\left|-+\\right\\rangle \\right).$\n",
    "\n",
    "Starting from $\\left|++\\right\\rangle$, we can apply $\\hat{H}$ to the first spin, obtaining $\\frac{1}{\\sqrt{2}}\\left(\\left|++\\right\\rangle + \\left|-+\\right\\rangle\\right)$. \n",
    "\n",
    "Next, the second spin needs to be flipped to $\\left|-\\right\\rangle$ <i>only</i> in the first term. One way of phrasing this task is: \"if the first spin state is $\\left|+\\right\\rangle$, change the state of the second spin from $\\left|+\\right\\rangle$ to $\\left|-\\right\\rangle$. This is our first example of a multispin (or multiqubit) gate. It turns out that the $CNOT$ (controlled \"not\") gate accomplishes almost this:\n",
    "\n",
    "$CNOT\\left|++\\right\\rangle = \\left|++\\right\\rangle$\n",
    "\n",
    "$CNOT\\left|+-\\right\\rangle = \\left|+-\\right\\rangle$\n",
    "\n",
    "$CNOT\\left|-+\\right\\rangle = \\left|--\\right\\rangle$\n",
    "\n",
    "$CNOT\\left|--\\right\\rangle = \\left|-+\\right\\rangle$\n",
    "\n",
    "Here we use the first spin as the \"control\" spin. If the first state is $\\left|-\\right\\rangle$, then the second state is swapped. Otherwise, the two-spin state is unchanged. This gate by itself won't turn our state into the singlet. <i>But</i> if we flip the second spin first\n",
    "\n",
    "$\\frac{1}{\\sqrt{2}}\\left(\\left|++\\right\\rangle + \\left|-+\\right\\rangle\\right) \\rightarrow \\frac{1}{\\sqrt{2}}\\left(\\left|+-\\right\\rangle + \\left|--\\right\\rangle\\right),$\n",
    "\n",
    "an application of $CNOT$ takes us almost to the singlet. We can invoke $CNOT(\\mbox{control},\\mbox{target})$ in a circuit via ```cx(ctrl,targ)```. A now deprecated alternative used to be ```cnot(ctrl,targ)```, so get ready to have fun crashing older programs that haven't made the transition. \n",
    "\n",
    "The final step needs to change the sign of the $\\left|-+\\right\\rangle$ term. This can be accomplished by the following unitary operation $\\hat{U}(0, \\pi, 0)$ acting on the first spin. This gate is equivalent to $\\sigma^{z}$ and sometimes given the label $\\hat{Z}$. Thus we need the following circuit:"
   ]
  },
  {
   "cell_type": "code",
   "execution_count": 12,
   "id": "644f6f99",
   "metadata": {},
   "outputs": [
    {
     "data": {
      "image/png": "[encoded data removed]",
      "text/plain": [
       "<Figure size 639.969x284.278 with 1 Axes>"
      ]
     },
     "execution_count": 12,
     "metadata": {},
     "output_type": "execute_result"
    }
   ],
   "source": [
    "qr = QuantumRegister(2)\n",
    "cr = ClassicalRegister(2,'c')\n",
    "singlet = QuantumCircuit(qr,cr)\n",
    "singlet.h(0)\n",
    "singlet.x(1)\n",
    "singlet.cx(0,1)\n",
    "singlet.z(0)\n",
    "singlet.barrier(range(2))\n",
    "singlet.measure(qr, cr)\n",
    "singlet.draw('mpl')"
   ]
  },
  {
   "cell_type": "markdown",
   "id": "f43d9b6d",
   "metadata": {},
   "source": [
    "Measurement as employed above won't confirm the relative phase (and can't distinguish $\\frac{1}{\\sqrt{2}}\\left(\\left|+-\\right\\rangle - \\left|-+\\right\\rangle\\right)$ from $\\frac{1}{\\sqrt{2}}\\left(\\left|+-\\right\\rangle + \\left|-+\\right\\rangle\\right)$), but it does confirm that our state is an equal combination of $\\left|+-\\right\\rangle$ and $\\left|-+\\right\\rangle$."
   ]
  },
  {
   "cell_type": "code",
   "execution_count": 13,
   "id": "e6e88834",
   "metadata": {},
   "outputs": [
    {
     "data": {
      "image/png": "[encoded data removed]",
      "text/plain": [
       "<Figure size 640x480 with 1 Axes>"
      ]
     },
     "execution_count": 13,
     "metadata": {},
     "output_type": "execute_result"
    }
   ],
   "source": [
    "sampler = StatevectorSampler()\n",
    "\n",
    "nshots = 8192\n",
    "\n",
    "pub = (singlet)\n",
    "job = sampler.run([pub], shots=nshots)\n",
    "\n",
    "result = job.result()[0]\n",
    "\n",
    "counts = result.data.c.get_counts()\n",
    "\n",
    "from qiskit.visualization import plot_histogram\n",
    "plot_histogram(counts)"
   ]
  },
  {
   "cell_type": "markdown",
   "id": "79f7fe99",
   "metadata": {},
   "source": [
    "Recall that in interpreting these states, we need to remember the correspondence '0' $\\rightarrow\\left|+\\right\\rangle$, '1'$\\rightarrow \\left|-\\right\\rangle$. To address the phase, you can actually build this circuit in the IBM Circuit Composer and see the phase displayed. Alternatively, we can perform a series of measurements which distinguish these two states. \n",
    "\n",
    "One trick is to measure $\\hat{S}^{2} \\equiv \\left[\\hat{S}^{x}\\right]^{2} + \\left[\\hat{S}^{y}\\right]^{2} + \\left[\\hat{S}^{z}\\right]^{2}$ for both states. For a two-spin state, we have \n",
    "\n",
    "$$\\hat{S}^{x} = \\hat{S}_{1}^{x} + \\hat{S}^{x}_{2},$$\n",
    "\n",
    "where $\\hat{S}^{x}_{i}$ refers to the $x$ projection of spin for the $i^{th}$ spin. Identically structured expressions exist for the other spin components. To calculate this expectation value analytically, one needs to remember that <i>all</i> operators acting on a two-spin state are actually tensor products of individual operators acting on both spins, though one might be trivial. Specifically, the spin component operators are\n",
    "\n",
    "$$\\hat{S}^{x}_{1} \\equiv \\hat{S}^{x}\\otimes\\hat{I},$$\n",
    "$$\\hat{S}^{x}_{1} \\equiv \\hat{I}\\otimes\\hat{S}^{x},$$\n",
    "\n",
    "where $\\hat{I}$ is the identity operator and $\\hat{S}^{x}$ is the usual operator corresponding to the $x$ projection of a single spin, represented by a $2\\times 2$ matrix. This distinction is not important for our experimental approach if we use the Sampler primitive and reconstruct expectation values. But remember how much easier the Estimator is for expectation values? We'll come back to this point momentarily. \n",
    "\n",
    "Our goal is to measure all three (squared) spin components for the singlet state. \n",
    "\n",
    "$$|\\mbox{singlet}\\rangle = \\frac{1}{\\sqrt{2}}\\left(|+-\\rangle - |-+\\rangle\\right)$$\n",
    "\n",
    "Just to show we're actually able to measure this phase (minus sign), let's go ahead and also measure the same thing for the \"triplet\" Bell state\n",
    "\n",
    "$$|\\mbox{triplet}\\rangle = \\frac{1}{\\sqrt{2}}\\left(|+-\\rangle + |-+\\rangle\\right)$$\n",
    "\n",
    "The singlet/triplet terminology arises because of how two spins combine into an effective lump of spin. Basis choice is key in quantum mechanics. When considering a composite system, the \"good quantum numbers\" (nicely behaving quantities) are generally things like total spin. If you think about all the ways to arrange two spin-$\\frac{1}{2}$ states, you get combinations with $z$ projection of spin $\\pm 1$ ($|++\\rangle$, $|--\\rangle$) and zero ($|+-\\rangle$, $|-+\\rangle$). That's only part of the story, but the first two suggest that part of this lump behaves like a spin-$1$ particle. Those are actually the $\\pm \\hbar$ eigenstates of the spin-$1$ $\\hat{S}^{z}$ operator. The other two <i>aren't</i>, but one linear combination is, and that's exactly what we're calling the <i>triplet</i> state. More properly, we should say it's <i>part of</i> the triplet of spin-$1$ states. The other linearly independent combination is the singlet, and it corresponds to a lump with no spin whatsoever... a <i>single</i>, spinless lump. "
   ]
  },
  {
   "cell_type": "markdown",
   "id": "ca85adc0",
   "metadata": {},
   "source": [
    "So here's the strategy. We create a circuit for each state and run the estimator to get expectation values for all spin components. As it turns out, we can bundle each circuit and the needed observables into a single PUB and bundle the two PUBs as a single job. \n",
    "\n",
    "<!---fairly reasonable middle ground: A spin measurement is fairly easy to be cast in terms of parameters. We have already seen how to perform a spin measurement in some arbitrary direction $\\hat{n}(\\theta,\\phi)$. $\\hat{S}^{x}$ corresponds to $\\theta = \\frac{\\pi}{2}$, $\\phi = 0$, $\\hat{S}^{y}$ corresponds to $\\theta = \\frac{\\pi}{2}$, $\\phi = \\frac{\\pi}{2}$, and $\\hat{S}^{z}$ corresponds to $\\theta = 0$, $\\phi = 0$ (or anything). Since the states are entangled, measuring one spin determines which value will be obtained from the measurement of the second spin (along that same direction). So we have to do these spin measurements independently (doubling the number of circuits, or at least the depth!). We'll make two copies of each state on a four-qubit circuit with the top two qubits for measuring the first spin and the bottom two for measuring the second spin. Each \"subcircuit\" is an identical set of gates with only the measurement differing. This <i>will</i> complicate the output, but it's not too bad with only two measurements. We need something like:-->"
   ]
  },
  {
   "cell_type": "code",
   "execution_count": 78,
   "id": "e40524e3",
   "metadata": {},
   "outputs": [
    {
     "data": {
      "image/png": "[encoded data removed]",
      "text/plain": [
       "<Figure size 407.367x200.667 with 1 Axes>"
      ]
     },
     "execution_count": 78,
     "metadata": {},
     "output_type": "execute_result"
    }
   ],
   "source": [
    "qr = QuantumRegister(2)\n",
    "cr = ClassicalRegister(2,'c')\n",
    "\n",
    "singletcirc = QuantumCircuit(qr)\n",
    "#singlet state\n",
    "singletcirc.h(0)\n",
    "singletcirc.x(1)\n",
    "singletcirc.cx(0,1)\n",
    "singletcirc.z(0)\n",
    "singletcirc.draw('mpl')"
   ]
  },
  {
   "cell_type": "code",
   "execution_count": 79,
   "id": "20e01b04-a0c7-4d37-8329-6f0fe33171f0",
   "metadata": {},
   "outputs": [
    {
     "data": {
      "image/png": "[encoded data removed]",
      "text/plain": [
       "<Figure size 323.756x200.667 with 1 Axes>"
      ]
     },
     "execution_count": 79,
     "metadata": {},
     "output_type": "execute_result"
    }
   ],
   "source": [
    "tripletcirc = QuantumCircuit(qr)\n",
    "#triplet state\n",
    "tripletcirc.h(0)\n",
    "tripletcirc.x(1)\n",
    "tripletcirc.cx(0,1)\n",
    "tripletcirc.draw('mpl')"
   ]
  },
  {
   "cell_type": "markdown",
   "id": "6b181d84-f54e-41d0-9699-16d5f08b9c80",
   "metadata": {},
   "source": [
    "Now that we have <i>two</i> spins, we have to build operators in the two-spin Hilbert space. Thus, we need $\\hat{S}_{1}^{x} = \\hat{S}^{x}\\otimes\\hat{I}$, $\\hat{S}_{2}^{x} = \\hat{I}\\otimes\\hat{S}^{x}$, with similar operators for the other components. \n",
    "\n",
    "But there's a crucial simplification here. We are attempting to measure the squared spin operator, \n",
    "\n",
    "$$\\hat{S}^{2} = \\left[\\hat{S}_{1}^{x} + \\hat{S}_{2}^{x}\\right]^{2} + \\left[\\hat{S}_{1}^{y} + \\hat{S}_{2}^{y}\\right]^{2} + \\left[\\hat{S}_{1}^{z} + \\hat{S}_{2}^{z}\\right]^{2}$$\n",
    "\n",
    "Here $\\hat{S}_{1,2}^{x,y,z}$ are just spin-$\\frac{1}{2}$ operators attached to an identity operator for the other spin. Thus, they satisfy the same algebra as the spin-$\\frac{1}{2}$ operators. Simplifying, we have\n",
    "\n",
    "$$\\hat{S}^{2} = \\hat{S}_{1}^{2} + \\hat{S}_{2}^{2} + 2\\hat{\\bf S}_{1}\\cdot \\hat{\\bf S}_{2}$$\n",
    "\n",
    "Here, $\\hat{S}_{1}^{2} \\equiv \\left[\\hat{S}_{1}^{x}\\right]^{2} + \\left[\\hat{S}_{1}^{y}\\right]^{2} + \\left[\\hat{S}_{1}^{z}\\right]^{2}$ and similarly for $\\hat{S}_{2}^{2}$. The last term is shorthand for\n",
    "\n",
    "$$\\hat{\\bf S}_{1}\\cdot \\hat{\\bf S}_{2} = \\hat{S}^{x}\\otimes \\hat{S}^{x} + \\hat{S}^{y}\\otimes \\hat{S}^{y} + \\hat{S}^{z}\\otimes \\hat{S}^{z}.$$\n",
    "\n",
    "It's simple enough to use the $2\\times 2$ Pauli representation of the single spin-$\\frac{1}{2}$ operators to show\n",
    "\n",
    "$$\\hat{S}_{1}^{2} = \\hat{S}_{2}^{2} = \\frac{3\\hbar^{2}}{4}\\hat{I}.$$\n",
    "\n",
    "Thus, for some state $\\left|\\psi\\right\\rangle$, we expect an average of a large number of measurements of $\\hat{S}^{2}$ to yield\n",
    "\n",
    "$$\\left\\langle \\hat{S}^{2}\\right\\rangle = \\frac{3\\hbar^{2}}{2} + 2\\left\\langle \\hat{\\bf S}_{1} \\cdot \\hat{\\bf S}_{2}\\right\\rangle.$$\n",
    "\n",
    "That is, effectively we only need to measure $\\left\\langle \\hat{\\bf S}_{1} \\cdot \\hat{\\bf S}_{2}\\right\\rangle$ to measure $\\hat{S}^{2}$. \n",
    "Fortunately, there's a highly intuitive notation to construct these thre terms almost effortlessly."
   ]
  },
  {
   "cell_type": "code",
   "execution_count": 91,
   "id": "8801eea2-a6de-4988-9909-e5571c33963d",
   "metadata": {},
   "outputs": [],
   "source": [
    "from qiskit.quantum_info import SparsePauliOp\n",
    "\n",
    "XX = SparsePauliOp.from_list([(\"XX\", 0.25)])\n",
    "YY = SparsePauliOp.from_list([(\"YY\", 0.25)])\n",
    "ZZ = SparsePauliOp.from_list([(\"ZZ\", 0.25)])"
   ]
  },
  {
   "cell_type": "markdown",
   "id": "aea635fe-ae4c-4978-a5e5-a73ea34b5724",
   "metadata": {},
   "source": [
    "Each circuit is then bundled as before with the appropriate observables and run on the simulator. "
   ]
  },
  {
   "cell_type": "code",
   "execution_count": 92,
   "id": "6392ac4f-5dc7-42c9-89be-99361541fd02",
   "metadata": {},
   "outputs": [],
   "source": [
    "from qiskit.primitives import StatevectorEstimator\n",
    "\n",
    "estimator = StatevectorEstimator()\n",
    "\n",
    "pub1 = (\n",
    "    singletcirc,  # circuit\n",
    "    [XX, YY, ZZ],  # Observables\n",
    ")\n",
    "\n",
    "pub2 = (\n",
    "    tripletcirc,  # circuit\n",
    "    [XX, YY, ZZ],  # Observables\n",
    ")\n",
    "\n",
    "job_result = estimator.run(pubs=[pub1, pub2]).result()"
   ]
  },
  {
   "cell_type": "markdown",
   "id": "a399267d-6517-4746-b4c4-f6d24c710787",
   "metadata": {},
   "source": [
    "Each PUB gets its own \"result\" output from which we can compute expectation values. For the triplet, we get"
   ]
  },
  {
   "cell_type": "code",
   "execution_count": 98,
   "id": "96163997-1128-44c8-8278-318001271608",
   "metadata": {},
   "outputs": [],
   "source": [
    "xxt = job_result[1].data.evs[0]\n",
    "yyt = job_result[1].data.evs[1]\n",
    "zzt = job_result[1].data.evs[2]"
   ]
  },
  {
   "cell_type": "markdown",
   "id": "f077e5c6-868f-48ee-a314-ca5ff1a183ec",
   "metadata": {},
   "source": [
    "A spin-$s$ state has total squared spin $s(s+1)\\hbar^{2}$, so we get "
   ]
  },
  {
   "cell_type": "code",
   "execution_count": 99,
   "id": "c83722fb-712d-460f-b92c-ef428bdddeac",
   "metadata": {},
   "outputs": [
    {
     "data": {
      "text/plain": [
       "2.0"
      ]
     },
     "execution_count": 99,
     "metadata": {},
     "output_type": "execute_result"
    }
   ],
   "source": [
    "1.5 + 2.0*(xxt+yyt+zzt)"
   ]
  },
  {
   "cell_type": "markdown",
   "id": "019b6b29-135c-4b72-949e-75bdd57ac369",
   "metadata": {},
   "source": [
    "That's of the form $1(1+1)$, so $s = 1$. That's what we expect for the triplet state!\n",
    "\n",
    "For the singlet state, we get"
   ]
  },
  {
   "cell_type": "code",
   "execution_count": 100,
   "id": "0347a917-cda6-4a90-ad67-5d8915fc45b9",
   "metadata": {},
   "outputs": [],
   "source": [
    "xxs = job_result[0].data.evs[0]\n",
    "yys = job_result[0].data.evs[1]\n",
    "zzs = job_result[0].data.evs[2]"
   ]
  },
  {
   "cell_type": "code",
   "execution_count": 101,
   "id": "37b03cc6-b167-48a5-8c76-8c07854a1ca0",
   "metadata": {},
   "outputs": [
    {
     "data": {
      "text/plain": [
       "4.440892098500626e-16"
      ]
     },
     "execution_count": 101,
     "metadata": {},
     "output_type": "execute_result"
    }
   ],
   "source": [
    "1.5 + 2.0*(xxs+yys+zzs)"
   ]
  },
  {
   "cell_type": "markdown",
   "id": "352f4590",
   "metadata": {},
   "source": [
    "This is effectively zero, which is consistent with $0(0+1)$, or $s =0$. That's the singlet. This is one way of thinking at a high level about the difference between these two states: $|\\mbox{singlet}\\rangle$ corresponds to $s=0$, while $|\\mbox{triplet}\\rangle$ corresponds to $s=1$. \n",
    "\n",
    "Inserting the \"missing\" factors of $\\hbar$, we conclude\n",
    "\n",
    "$$\\left\\langle \\hat{S}^{2}\\right\\rangle = \\left\\{\\begin{array}{cc} 1\\cdot(1+1)\\hbar^{2} & (\\mbox{triplet})\\\\ 0 & (\\mbox{singlet})\\end{array}\\right.$$\n",
    "\n",
    "Single qubits map to spin-$\\frac{1}{2}$ degrees of freedom. When we consider the state describing multiple qubits, we find that such a state can map to a general spin-$s$ state for which$^{\\dagger}$ $\\hat{S}^{2} \\rightarrow s(s+1)\\hbar^{2}\\hat{I}$ with $s = 0,\\frac{1}{2},1,\\frac{3}{2},\\cdots$. Comparing this to our observations, we find that the triplet state is actually a spin-$1$ state, while the singlet is spin-0 (no internal spin degree of freedom). \n",
    "\n",
    "At a simpler level, we've found a particular observable ($\\hat{\\bf S}_{1}\\cdot \\hat{\\bf S}_{2}$) for which the closely-related singlet and triplet states give different values. This quantity $\\left\\langle \\hat{\\bf S}_{1}\\cdot\\hat{\\bf S}_{2}\\right\\rangle$ is actually an example of something refered to as a <i>correlation function</i>. If we take a closer look at the invidual pieces, we can gain some insight into the quantum state:"
   ]
  },
  {
   "cell_type": "code",
   "execution_count": 102,
   "id": "3c0b26e1",
   "metadata": {},
   "outputs": [
    {
     "name": "stdout",
     "output_type": "stream",
     "text": [
      "<Sx1 Sx2> = -0.24999999999999994\n",
      "<Sy1 Sy2> = -0.24999999999999994\n",
      "<Sz1 Sz2> = -0.24999999999999994\n"
     ]
    }
   ],
   "source": [
    "print('<Sx1 Sx2> = '+str(xxs))\n",
    "print('<Sy1 Sy2> = '+str(yys))\n",
    "print('<Sz1 Sz2> = '+str(zzs))"
   ]
  },
  {
   "cell_type": "code",
   "execution_count": 103,
   "id": "129e4eea",
   "metadata": {},
   "outputs": [
    {
     "name": "stdout",
     "output_type": "stream",
     "text": [
      "<Sx1 Sx2> = 0.24999999999999994\n",
      "<Sy1 Sy2> = 0.24999999999999994\n",
      "<Sz1 Sz2> = -0.24999999999999994\n"
     ]
    }
   ],
   "source": [
    "print('<Sx1 Sx2> = '+str(xxt))\n",
    "print('<Sy1 Sy2> = '+str(yyt))\n",
    "print('<Sz1 Sz2> = '+str(zzt))"
   ]
  },
  {
   "cell_type": "markdown",
   "id": "704feabc",
   "metadata": {},
   "source": [
    "Both states show anticorrelation in the individual measurements of $\\hat{S}^{z}$. This makes sense, because both states are composed of $\\left|+-\\right\\rangle$ and $\\left|-+\\right\\rangle$, so there's no possible way to have both spins in the same eigenstate of $\\hat{S}^{z}$. That relative phase ($e^{i0} = 1$ vs. $e^{i\\pi} = -1$ makes a significant difference in the correlations between the spins with respect to $\\hat{S}^{x}$ and $\\hat{S}^{y}$. \n",
    "\n",
    "For the \"triplet\" state, the positive correlations $\\left\\langle \\hat{S}^{x}_{1}\\hat{S}_{2}^{x}\\right\\rangle$ and $\\left\\langle \\hat{S}^{y}_{1}\\hat{S}_{2}^{y}\\right\\rangle$ indicate that the $x$ and $y$ projections of the individual spins have a tendency to align. Classically, one thinks of spin as a little arrow of magnitude $\\frac{\\hbar}{2}$ which points along some axis in three-dimensional space. Combining two spins results in a new type of quantum state whose interpretation is not so simple. It is possible to identify this state as an effective spin-1 state with $\\left\\langle \\hat{S}^{z} \\right\\rangle = 0$. In the classical picture, this corresponds to a little vector of magnitude $\\hbar$ which has no projection along $z$ and lives in the $xy$ plane. Of course, this state <i>isn't</i> a classical vector in real space. But this sloppy picture is roughly reflected in the structure of the correlations. \n",
    "\n",
    "The singlet state is a bit more interesting. All correlations are negative. The individual spins appear <i>entirely</i> anticorrelated, regardless of the direction. Consequently, it should not be too surprising to learn that this two-particle state can be viewed effectively as a spinless ($s = 0$) state. To really dig in to these correlations, let's look more closely at how they change for both states as the spin axis is varied. For simplicity, let's just keep $\\phi = 0$ and vary $\\theta$ from 0 to $\\pi$. We'll \"cheat\" by performing a rotation of $-\\theta$ about the $y$ axis on the system and measure $\\hat{S}^{z}\\hat{S}^{z}$. You can convince yourself this is equivalent to measuring $\\hat{S}^{\\theta}\\hat{S}^{\\theta}$ on the <i>un</i>rotated (original) system. "
   ]
  },
  {
   "cell_type": "code",
   "execution_count": 105,
   "id": "1a3da7ca",
   "metadata": {},
   "outputs": [
    {
     "data": {
      "image/png": "[encoded data removed]",
      "text/plain": [
       "<Figure size 574.589x284.278 with 1 Axes>"
      ]
     },
     "execution_count": 105,
     "metadata": {},
     "output_type": "execute_result"
    }
   ],
   "source": [
    "from qiskit.circuit import Parameter\n",
    "theta = Parameter('θ')\n",
    "\n",
    "singletcircθ = QuantumCircuit(qr,cr)\n",
    "#singlet state\n",
    "singletcircθ.h(0)\n",
    "singletcircθ.x(1)\n",
    "singletcircθ.cx(0,1)\n",
    "singletcircθ.z(0)\n",
    "singletcircθ.barrier(qr)\n",
    "singletcircθ.ry(-theta,qr)\n",
    "singletcircθ.draw('mpl')"
   ]
  },
  {
   "cell_type": "code",
   "execution_count": 107,
   "id": "c732c122",
   "metadata": {},
   "outputs": [
    {
     "data": {
      "image/png": "[encoded data removed]",
      "text/plain": [
       "<Figure size 490.978x284.278 with 1 Axes>"
      ]
     },
     "execution_count": 107,
     "metadata": {},
     "output_type": "execute_result"
    }
   ],
   "source": [
    "tripletcircθ = QuantumCircuit(qr,cr)\n",
    "#triplet state\n",
    "tripletcircθ.h(0)\n",
    "tripletcircθ.x(1)\n",
    "tripletcircθ.cx(0,1)\n",
    "tripletcircθ.barrier(qr)\n",
    "tripletcircθ.ry(-theta,qr)\n",
    "tripletcircθ.draw('mpl')"
   ]
  },
  {
   "cell_type": "code",
   "execution_count": 109,
   "id": "2016faea",
   "metadata": {},
   "outputs": [],
   "source": [
    "Ntheta = 100\n",
    "theta_range = np.linspace(0,np.pi,Ntheta)"
   ]
  },
  {
   "cell_type": "markdown",
   "id": "26145d83",
   "metadata": {},
   "source": [
    "We'll run both of these on the simulator. This means we get multiple circuits and multiple parameter values packaged into a single job."
   ]
  },
  {
   "cell_type": "code",
   "execution_count": 122,
   "id": "64d6e0d8",
   "metadata": {},
   "outputs": [],
   "source": [
    "estimator = StatevectorEstimator()\n",
    "\n",
    "pub1 = (\n",
    "    singletcircθ,  # circuit\n",
    "    [ZZ],         # Observables\n",
    "    theta_range,  # parameters\n",
    ")\n",
    "\n",
    "pub2 = (\n",
    "    tripletcircθ,  # circuit\n",
    "    [ZZ],  # Observables\n",
    "    theta_range,  # parameters\n",
    ")\n",
    "\n",
    "job_result = estimator.run(pubs=[pub1, pub2]).result()"
   ]
  },
  {
   "cell_type": "markdown",
   "id": "9d01fa1d",
   "metadata": {},
   "source": [
    "The analysis is roughly the same, but now we can make a plot of the $\\langle \\hat{S}^{\\theta}\\hat{S}^{\\theta}\\rangle$ correlation function."
   ]
  },
  {
   "cell_type": "code",
   "execution_count": 123,
   "id": "19461b40-cc9f-4e26-a084-65dded8bce92",
   "metadata": {},
   "outputs": [],
   "source": [
    "zzsθ = job_result[0].data.evs\n",
    "zztθ = job_result[1].data.evs"
   ]
  },
  {
   "cell_type": "code",
   "execution_count": 125,
   "id": "14048f90-5ee7-4694-93ba-504115edcb78",
   "metadata": {},
   "outputs": [
    {
     "data": {
      "image/png": "[encoded data removed]",
      "text/plain": [
       "<Figure size 640x480 with 1 Axes>"
      ]
     },
     "metadata": {},
     "output_type": "display_data"
    }
   ],
   "source": [
    "from matplotlib import pyplot as plt\n",
    "\n",
    "plt.plot(theta_range,zzsθ,'bo',label='singlet')\n",
    "plt.plot(theta_range,zztθ,'ro',label='triplet')\n",
    "plt.xlabel('θ')\n",
    "plt.ylabel('<SθSθ>')\n",
    "plt.legend()\n",
    "plt.show()"
   ]
  },
  {
   "cell_type": "markdown",
   "id": "12447f81-35a5-42a1-9bc2-b245cf79e78d",
   "metadata": {},
   "source": [
    "It's been a while. Let's run this on an actual device to see what happens with this more complicated system. Again, we just need to convert the circuits and observables to ISA and call a real device."
   ]
  },
  {
   "cell_type": "code",
   "execution_count": 131,
   "id": "c629dc87-d3b2-41bf-9b2f-5a53a9ab01a0",
   "metadata": {},
   "outputs": [
    {
     "data": {
      "text/plain": [
       "'ibm_osaka'"
      ]
     },
     "execution_count": 131,
     "metadata": {},
     "output_type": "execute_result"
    }
   ],
   "source": [
    "from qiskit_ibm_runtime import QiskitRuntimeService\n",
    " \n",
    "service = QiskitRuntimeService()\n",
    "\n",
    "backend = service.least_busy(simulator=False, operational=True)\n",
    "backend.name"
   ]
  },
  {
   "cell_type": "code",
   "execution_count": null,
   "id": "f13d21d8-d875-433a-bb48-e5d3340440a2",
   "metadata": {},
   "outputs": [],
   "source": [
    "from qiskit.transpiler.preset_passmanagers import generate_preset_pass_manager\n",
    "\n",
    "pm = generate_preset_pass_manager(backend=backend, optimization_level=3)\n",
    "isa_singlet = pm.run(singletcircθ)\n",
    "isa_triplet = pm.run(tripletcircθ)\n",
    "\n",
    "isa_zz1 = ZZ.apply_layout(layout=isa_singlet.layout)\n",
    "isa_zz2 = ZZ.apply_layout(layout=isa_triplet.layout)\n",
    "\n",
    "pub1 = (\n",
    "    isa_singlet,  # circuit\n",
    "    [isa_zz1],         # Observables\n",
    "    theta_range,  # parameters\n",
    ")\n",
    "\n",
    "pub2 = (\n",
    "    isa_triplet,  # circuit\n",
    "    [isa_zz2],  # Observables\n",
    "    theta_range,  # parameters\n",
    ")\n",
    "\n",
    "from qiskit_ibm_runtime import QiskitRuntimeService, EstimatorV2 as Estimator\n",
    "\n",
    "estimator = Estimator(backend)\n",
    "job = estimator.run(pubs=[pub1,pub2])\n",
    "\n",
    "result = job_result.result()"
   ]
  },
  {
   "cell_type": "code",
   "execution_count": 134,
   "id": "c7e3947d-d90d-4cf3-a097-72de31e308ad",
   "metadata": {},
   "outputs": [],
   "source": [
    "zzsθq = job_result[0].data.evs\n",
    "zztθq = job_result[1].data.evs"
   ]
  },
  {
   "cell_type": "code",
   "execution_count": 135,
   "id": "81fa271a-fbd0-4404-90d0-518d0a0ac349",
   "metadata": {},
   "outputs": [
    {
     "data": {
      "image/png": "[encoded data removed]",
      "text/plain": [
       "<Figure size 640x480 with 1 Axes>"
      ]
     },
     "metadata": {},
     "output_type": "display_data"
    }
   ],
   "source": [
    "plt.plot(theta_range,zzsθq,'bo',label='singlet')\n",
    "plt.plot(theta_range,zztθq,'ro',label='triplet')\n",
    "plt.plot(theta_range,zzsθ,'k.',label='singlet')\n",
    "plt.plot(theta_range,zztθ,'k.',label='triplet')\n",
    "plt.xlabel('θ')\n",
    "plt.ylabel('<SθSθ>')\n",
    "plt.legend()\n",
    "plt.show()"
   ]
  },
  {
   "cell_type": "markdown",
   "id": "9e2f52f2",
   "metadata": {},
   "source": [
    "Agreement between simulation (black dots) and actual results (colored circles) is actually <i>pretty good</i>. Note that on ```ibm_osaka``` this job ate up <b>4 minutes and 17 seconds</b> of the free ten minutes one gets each month."
   ]
  },
  {
   "cell_type": "markdown",
   "id": "2c853d7b",
   "metadata": {},
   "source": [
    "<b>Exercise 1: </b> Create the singlet and triplet states as before, but perform a rotation to change them into\n",
    "\n",
    "$$\\left|\\psi'\\right\\rangle_{sing} \\rightarrow \\frac{1}{\\sqrt{2}}\\left(\\left|+\\right\\rangle_{x}\\left|-\\right\\rangle_{x} - \\left|-\\right\\rangle_{x}\\left|+\\right\\rangle_{x}\\right),$$ \n",
    "\n",
    "$$\\left|\\psi'\\right\\rangle_{trip} \\rightarrow \\frac{1}{\\sqrt{2}}\\left(\\left|+\\right\\rangle_{x}\\left|-\\right\\rangle_{x} + \\left|-\\right\\rangle_{x}\\left|+\\right\\rangle_{x}\\right),$$ \n",
    "\n",
    "If you repeat the calculation of the three correlation functions, $\\left\\langle \\hat{S}^{\\alpha}\\otimes\\hat{S}^{\\alpha}\\right\\rangle$ for $\\alpha = x,y,z$, which change and which stay the same? Discuss any possible reasons for the results you find."
   ]
  },
  {
   "cell_type": "markdown",
   "id": "3e312f37",
   "metadata": {},
   "source": [
    "<b>Solution: </b>"
   ]
  },
  {
   "cell_type": "markdown",
   "id": "ce591c53",
   "metadata": {},
   "source": [
    "The basic idea is to copy the singlet/triplet circuits from above and simply perform a rotation on qubit of 90 degrees about the $y$ axis."
   ]
  },
  {
   "cell_type": "code",
   "execution_count": 139,
   "id": "4508c2c6-0cd8-4ca1-8511-52001f3197cf",
   "metadata": {},
   "outputs": [],
   "source": [
    "qr = QuantumRegister(2)\n",
    "cr = ClassicalRegister(2,'c')\n",
    "\n",
    "singletcirc = QuantumCircuit(qr)\n",
    "#singlet state\n",
    "singletcirc.h(0)\n",
    "singletcirc.x(1)\n",
    "singletcirc.cx(0,1)\n",
    "singletcirc.z(0)\n",
    "singletcirc.ry(np.pi/2,qr)\n",
    "\n",
    "\n",
    "tripletcirc = QuantumCircuit(qr)\n",
    "#triplet state\n",
    "tripletcirc.h(0)\n",
    "tripletcirc.x(1)\n",
    "tripletcirc.cx(0,1)\n",
    "tripletcirc.ry(np.pi/2,qr)\n",
    "\n",
    "\n",
    "from qiskit.quantum_info import SparsePauliOp\n",
    "\n",
    "XX = SparsePauliOp.from_list([(\"XX\", 0.25)])\n",
    "YY = SparsePauliOp.from_list([(\"YY\", 0.25)])\n",
    "ZZ = SparsePauliOp.from_list([(\"ZZ\", 0.25)])\n",
    "\n",
    "from qiskit.primitives import StatevectorEstimator\n",
    "\n",
    "estimator = StatevectorEstimator()\n",
    "\n",
    "pub1 = (\n",
    "    singletcirc,  # circuit\n",
    "    [XX, YY, ZZ],  # Observables\n",
    ")\n",
    "\n",
    "pub2 = (\n",
    "    tripletcirc,  # circuit\n",
    "    [XX, YY, ZZ],  # Observables\n",
    ")\n",
    "\n",
    "job_result = estimator.run(pubs=[pub1, pub2]).result()"
   ]
  },
  {
   "cell_type": "code",
   "execution_count": 140,
   "id": "8aca1565-66e2-435c-bd34-2d2cff9df543",
   "metadata": {},
   "outputs": [],
   "source": [
    "xxt = job_result[1].data.evs[0]\n",
    "yyt = job_result[1].data.evs[1]\n",
    "zzt = job_result[1].data.evs[2]\n",
    "\n",
    "xxs = job_result[0].data.evs[0]\n",
    "yys = job_result[0].data.evs[1]\n",
    "zzs = job_result[0].data.evs[2]"
   ]
  },
  {
   "cell_type": "code",
   "execution_count": 141,
   "id": "3e5687b2-bef7-4db3-b088-7b692ef36170",
   "metadata": {},
   "outputs": [
    {
     "name": "stdout",
     "output_type": "stream",
     "text": [
      "<Sx1 Sx2> = -0.24999999999999994\n",
      "<Sy1 Sy2> = -0.24999999999999994\n",
      "<Sz1 Sz2> = -0.24999999999999994\n",
      "<Sx1 Sx2> = -0.24999999999999994\n",
      "<Sy1 Sy2> = 0.24999999999999994\n",
      "<Sz1 Sz2> = 0.24999999999999994\n"
     ]
    }
   ],
   "source": [
    "print('<Sx1 Sx2> = '+str(xxs))\n",
    "print('<Sy1 Sy2> = '+str(yys))\n",
    "print('<Sz1 Sz2> = '+str(zzs))\n",
    "\n",
    "print('<Sx1 Sx2> = '+str(xxt))\n",
    "print('<Sy1 Sy2> = '+str(yyt))\n",
    "print('<Sz1 Sz2> = '+str(zzt))"
   ]
  },
  {
   "cell_type": "markdown",
   "id": "9aaf333d",
   "metadata": {},
   "source": [
    "The singlet correlations are unchanged. The \"rotated triplet\" correlations are also of the same structure, but the negative correlation is along the $x$ direction instead of the $z$ direction as it was previously."
   ]
  },
  {
   "cell_type": "markdown",
   "id": "7636f396",
   "metadata": {},
   "source": [
    "<b>Exercise 2: </b> Consider a state which interpolates between the singlet and triplet state,\n",
    "\n",
    "$$\\left|\\psi(\\phi)\\right\\rangle = \\frac{1}{\\sqrt{2}}\\left(\\left|+\\right\\rangle\\left|-\\right\\rangle +e^{i\\phi}\\left|-\\right\\rangle\\left|+\\right\\rangle\\right),$$\n",
    "\n",
    "for $0 \\leq \\phi\\leq \\pi$. Calculate and plot the three correlation functions, $\\left\\langle \\hat{S}^{\\alpha}\\otimes\\hat{S}^{\\alpha}\\right\\rangle$ for $\\alpha = x,y,z$ as functions of the angle $\\phi$."
   ]
  },
  {
   "cell_type": "markdown",
   "id": "74c7e59a",
   "metadata": {},
   "source": [
    "<b>Solution: </b>"
   ]
  },
  {
   "cell_type": "markdown",
   "id": "62737c2b",
   "metadata": {},
   "source": [
    "The trick with this state is to apply a unitary gate $U(\\frac{1}{\\sqrt{2}},\\phi,0)$ instead of the basic Hadamard gate. We can use $\\phi$ as a parameter, and we don't need to final $Z$ gate to flip the sign to create a singlet state. It's easiest to calculate the correlation functions using separate circuits since $\\phi$ is already being used to parameterize the state."
   ]
  },
  {
   "cell_type": "code",
   "execution_count": 146,
   "id": "bfa0063a",
   "metadata": {},
   "outputs": [
    {
     "data": {
      "image/png": "[encoded data removed]",
      "text/plain": [
       "<Figure size 323.958x284.278 with 1 Axes>"
      ]
     },
     "execution_count": 146,
     "metadata": {},
     "output_type": "execute_result"
    }
   ],
   "source": [
    "phi = Parameter('ϕ')\n",
    "Nphi = 100\n",
    "\n",
    "phi_vals = np.linspace(0,np.pi,Nphi)\n",
    "\n",
    "qr = QuantumRegister(2)\n",
    "\n",
    "circ = QuantumCircuit(qr,cr) \n",
    "circ.u(np.pi/2,phi,0,0)\n",
    "circ.x(1)\n",
    "circ.cx(0,1)\n",
    "circ.draw('mpl')"
   ]
  },
  {
   "cell_type": "code",
   "execution_count": 148,
   "id": "a80b0c44-a79e-4791-9b97-09bc6168076d",
   "metadata": {},
   "outputs": [],
   "source": [
    "from qiskit.quantum_info import SparsePauliOp\n",
    "\n",
    "XX = SparsePauliOp.from_list([(\"XX\", 0.25)])\n",
    "YY = SparsePauliOp.from_list([(\"YY\", 0.25)])\n",
    "ZZ = SparsePauliOp.from_list([(\"ZZ\", 0.25)])\n",
    "\n",
    "from qiskit.primitives import StatevectorEstimator\n",
    "\n",
    "estimator = StatevectorEstimator()\n",
    "\n",
    "pub1 = (\n",
    "    circ,  # circuit\n",
    "    [[XX], [YY], [ZZ]],  # Observables\n",
    "    phi_vals,\n",
    ")\n",
    "\n",
    "job_result = estimator.run(pubs=[pub1]).result()"
   ]
  },
  {
   "cell_type": "code",
   "execution_count": 154,
   "id": "2ed85b79-5001-45d7-8b89-15a94c744ef3",
   "metadata": {},
   "outputs": [],
   "source": [
    "xx = job_result[0].data.evs[0]\n",
    "yy = job_result[0].data.evs[1]\n",
    "zz = job_result[0].data.evs[2]"
   ]
  },
  {
   "cell_type": "code",
   "execution_count": 155,
   "id": "d5739e28",
   "metadata": {},
   "outputs": [
    {
     "data": {
      "image/png": "[encoded data removed]",
      "text/plain": [
       "<Figure size 640x480 with 1 Axes>"
      ]
     },
     "metadata": {},
     "output_type": "display_data"
    }
   ],
   "source": [
    "plt.plot(phi_vals,xx,'bo',label='<SxSx>')\n",
    "plt.plot(phi_vals,yy,'ro',label='<SySy>')\n",
    "plt.plot(phi_vals,zz,'ko',label='<SzSz>')\n",
    "plt.legend()\n",
    "plt.xlabel('θ')\n",
    "plt.ylabel('correlation')\n",
    "plt.show()"
   ]
  },
  {
   "cell_type": "markdown",
   "id": "5a4d5056",
   "metadata": {},
   "source": [
    "Thus, the $z$-component of correlations is always maximally negative while the transverse components interpolate smoothly from the triplet values to the singlet values. One can also perform a calculation with the spin operators to show\n",
    "\n",
    "$$\\left\\langle \\hat{S}^{x}\\otimes\\hat{S}^{x}\\right\\rangle = \\left\\langle \\hat{S}^{y}\\otimes\\hat{S}^{y}\\right\\rangle  =  \\frac{\\hbar^{2}}{4}\\cos\\phi,$$\n",
    "\n",
    "while $\\left\\langle \\hat{S}^{z}\\otimes\\hat{S}^{z}\\right\\rangle  = -\\frac{\\hbar^{2}}{4}$, in agreement with the simulation."
   ]
  },
  {
   "cell_type": "markdown",
   "id": "7026882f-106c-441c-b4b1-1895748a0daf",
   "metadata": {},
   "source": [
    "## Version information:"
   ]
  },
  {
   "cell_type": "code",
   "execution_count": 157,
   "id": "50b7c1f2-b3bf-4c5c-9c44-be89b9a9797b",
   "metadata": {},
   "outputs": [
    {
     "data": {
      "text/plain": [
       "'0.25.0'"
      ]
     },
     "execution_count": 157,
     "metadata": {},
     "output_type": "execute_result"
    }
   ],
   "source": [
    "import qiskit_ibm_runtime\n",
    "\n",
    "qiskit_ibm_runtime.version.get_version_info()"
   ]
  },
  {
   "cell_type": "code",
   "execution_count": 158,
   "id": "cc137709-9963-4563-9e9d-c5f11042ccb6",
   "metadata": {},
   "outputs": [
    {
     "data": {
      "text/plain": [
       "'1.1.1'"
      ]
     },
     "execution_count": 158,
     "metadata": {},
     "output_type": "execute_result"
    }
   ],
   "source": [
    "import qiskit \n",
    "\n",
    "qiskit.version.get_version_info()"
   ]
  }
 ],
 "metadata": {
  "kernelspec": {
   "display_name": "Python 3 (ipykernel)",
   "language": "python",
   "name": "python3"
  },
  "language_info": {
   "codemirror_mode": {
    "name": "ipython",
    "version": 3
   },
   "file_extension": ".py",
   "mimetype": "text/x-python",
   "name": "python",
   "nbconvert_exporter": "python",
   "pygments_lexer": "ipython3",
   "version": "3.8.5"
  },
  "widgets": {
   "application/vnd.jupyter.widget-state+json": {
    "state": {},
    "version_major": 2,
    "version_minor": 0
   }
  }
 },
 "nbformat": 4,
 "nbformat_minor": 5
}
