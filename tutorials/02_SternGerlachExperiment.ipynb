{
 "cells": [
  {
   "cell_type": "markdown",
   "metadata": {},
   "source": [
    "# PHY 3310 - Quantum Mechanics\n",
    "# Stern-Gerlach Experiment using a Quantum Computer\n",
    "-----------------------------------------------------------"
   ]
  },
  {
   "cell_type": "code",
   "execution_count": null,
   "metadata": {},
   "outputs": [],
   "source": [
    "import numpy as np\n",
    "from matplotlib import pyplot as plt\n",
    "from qiskit import *\n",
    "#%matplotlib inline"
   ]
  },
  {
   "cell_type": "markdown",
   "metadata": {},
   "source": [
    "In the last activity, we introduced some basic aspects of how to use quantum computers to simulate a single spin-$\\frac{1}{2}$ degree of freedom. Of particular importance were:\n",
    "\n",
    "1. An arbitrary two-level state can be created from the default initialization $\\left|+\\right\\rangle$ by application of $\\hat{U}(\\theta,\\phi,\\lambda)$ for suitable choices of $\\theta$, $\\phi$ with $\\lambda = 0$.\n",
    "2. The spin projection of a state can be measured in any direction $\\hat{n}(\\theta,\\phi)$ by appropriately rotating the state before performing a standard measurement of $\\hat{S}^{z}$ (i.e., the \"computational basis\").\n",
    "\n",
    "In today's endeavor, we will build on these ideas to construct a simulation of the famous Stern-Gerlach experiment. The term \"simulation\" refers to the actual quantum processes taking place on transmon qubits rather than spins, to be distinguished from the classical \"simulator\" used by the [SPINS](http://sites.science.oregonstate.edu/~mcintyre/ph425/spins/) program to generate sample data.\n",
    "\n",
    "To streamline the process somewhat, let us begin by defining several measurement functions. The goal is to be able to <i>use</i> a bunch of quantum circuits to get results. The manual construction of gates associated with spin component measurments becomes quite tedious. It will be assumed that a circuit has been defined of the form\n",
    "\n",
    "```\n",
    "qr = QuantumRegister(nq)\n",
    "cr = ClassicalRegister(nc)\n",
    "circuit = QuantumCircuit(qr,qc)\n",
    "```\n",
    "\n",
    "Given this (empty) circuit, the qubits will always be initialized to $\\left|+\\right\\rangle$. Our task will be to perform successive measurements of various spin components. The following functions will create such measurements:"
   ]
  },
  {
   "cell_type": "code",
   "execution_count": null,
   "metadata": {},
   "outputs": [],
   "source": [
    "def measure_sx(circuit,qreg,creg):\n",
    "    circuit.ry(-np.pi/2,qreg)\n",
    "    circuit.measure(qreg,creg)\n",
    "    circuit.ry(np.pi/2,qreg)\n",
    "    return circuit\n",
    "\n",
    "def measure_sy(circuit,qreg,creg):\n",
    "    circuit.rz(-np.pi/2,qreg)\n",
    "    circuit.ry(-np.pi/2,qreg)\n",
    "    circuit.measure(qreg,creg)\n",
    "    circuit.ry(np.pi/2,qreg)\n",
    "    circuit.rz(np.pi/2,qreg)\n",
    "    return circuit\n",
    "\n",
    "def measure_sz(circuit,qreg,creg):\n",
    "    circuit.measure(qreg,creg)\n",
    "    return circuit"
   ]
  },
  {
   "cell_type": "markdown",
   "metadata": {},
   "source": [
    "<b>Important warning: </b> The above functions will rotate the system, perform the measurement, and then <i>un-rotate</i> the system. This is perhaps the easiest conceptual way to approach repeated measurements. However, it's far from the most efficient approach. One could design each compound circuit from scratch to reduce the number of gates. For our purposes (and certainly with simulator results), this shouldn't matter much. But if you want to do quantum computing for a living, you'll want to pay much more attention to doing things with as few gates as possible. \n",
    "\n",
    "With that disclaimer out of the way, let's get going and take a single spin represented by a single qubit. Implicitly, the initialization of the qubit in the state $\\left|0\\right\\rangle$ represents a measurement of $\\hat{S}^{z}$ on an unpolarized beam followed by discarding all the spins in state $\\left|-\\right\\rangle$.\n",
    "\n",
    "So here's a simple task: imagine we wish to perform the following sequence of measurements (screenshot from [SPINS Java app](http://sites.science.oregonstate.edu/~mcintyre/ph425/spins/)):\n",
    "\n",
    "![axes](http://linus.highpoint.edu/~jlancaster/QC/images/sg1a.png)\n",
    "\n",
    "It's important to note that the IBM quantum hardware essentially takes care of the first measurement and only feeds us the $\\left|+\\right\\rangle$ states which emerge from the first analyzer. Of course it doesn't actually generate the states this way, but for purposes of simulation we can pretend that's what's happening. \n",
    "\n",
    "Our job is just to complete the circuit, which just involves measuring $\\hat{S}^{x}$:"
   ]
  },
  {
   "cell_type": "code",
   "execution_count": null,
   "metadata": {},
   "outputs": [],
   "source": [
    "qr = QuantumRegister(1)\n",
    "cr = ClassicalRegister(1)\n",
    "\n",
    "circ = QuantumCircuit(qr,cr)\n",
    "circ = measure_sx(circ,0,0)\n",
    "circ.draw()"
   ]
  },
  {
   "cell_type": "markdown",
   "metadata": {},
   "source": [
    "Recall that the measurement process takes the state of qubit and writes it to the classical register, which is just a blank set of slots (also initialized to zero). When we begin taking multiple measurements, we'll need to write to different slots on the classical register to record all the measurements. \n",
    "\n",
    "But for now, this should do it. Let's see what happens. For simplicity, we'll run the simulator and an actual device and show both sets of results on the same histogram. "
   ]
  },
  {
   "cell_type": "code",
   "execution_count": null,
   "metadata": {},
   "outputs": [],
   "source": [
    "IBMQ.load_account() "
   ]
  },
  {
   "cell_type": "code",
   "execution_count": null,
   "metadata": {},
   "outputs": [],
   "source": [
    "job = execute(circ,backend=BasicAer.get_backend('qasm_simulator'),shots=1024)\n",
    "counts = job.result().get_counts()\n",
    "\n",
    "qcomp = provider.get_backend('ibmq_bogota')\n",
    "job = execute(circ,backend=qcomp)\n",
    "\n",
    "from qiskit.tools.monitor import job_monitor\n",
    "job_monitor(job)\n",
    "\n",
    "counts_q = job.result().get_counts()"
   ]
  },
  {
   "cell_type": "code",
   "execution_count": null,
   "metadata": {},
   "outputs": [],
   "source": [
    "from qiskit.tools.visualization import plot_histogram\n",
    "plot_histogram([counts,counts_q],legend=['simulator','device'])"
   ]
  },
  {
   "cell_type": "markdown",
   "metadata": {},
   "source": [
    "Recall that we need to interpet '0' or '1' as '+' or '-' <i>in this basis for which the measurment is performed</i>. We conclude that of all the spins initialized in $\\left|+\\right\\rangle$, about half were measured to be $\\left|+\\right\\rangle_{x}$ while the other half were measured to be in $\\left|-\\right\\rangle$. So far nothing too magical.\n",
    "    \n",
    "Surely, measuring $\\hat{S}^{z}$ one more time would return $+$ for all measurements since the state began in that eigenstate. We can explore this by adding another measurement. Since this will require a larger classical register to store two measurements, we'll just redo the circuit:"
   ]
  },
  {
   "cell_type": "code",
   "execution_count": null,
   "metadata": {},
   "outputs": [],
   "source": [
    "qr = QuantumRegister(1)\n",
    "cr = ClassicalRegister(2)\n",
    "\n",
    "circ = QuantumCircuit(qr,cr)\n",
    "circ = measure_sx(circ,0,1)\n",
    "circ = measure_sz(circ,0,0)\n",
    "circ.draw()"
   ]
  },
  {
   "cell_type": "markdown",
   "metadata": {},
   "source": [
    "One potentially confusing item (at least for me): It appears the the classical register state appears written right-to-left. I tend to think left-to-right in most cases, so I have written the first measurement to ```cr[1]``` and the second to ```cr[0]```. It doesn't matter which measurement gets stored where, but (as of the time of writing this) this appears be necessary to get an output that can be read from left to right (but more on this below!). For completion, here is the Stern-Gerlach setup being used:\n",
    "\n",
    "<img src=\"http://linus.highpoint.edu/~jlancaster/QC/images/sg2.png\" alt=\"sg2\" width=\"600\"/>\n",
    "\n",
    "As before, the initialization on the backend takes care of the first $\\hat{S}^{z}$ measurement. Note that the Stern-Gerlach experiment only feeds the $\\left|+\\right\\rangle_{x}$ into the final analyzer. There is nothing in our quantum circuit that makes this restriction, but we will be able to account for this once we get the counts--the joys of post-processing!\n",
    "\n",
    "So let's run this thing and see what happens:"
   ]
  },
  {
   "cell_type": "code",
   "execution_count": null,
   "metadata": {},
   "outputs": [],
   "source": [
    "job = execute(circ,backend=BasicAer.get_backend('qasm_simulator'),shots=1024)\n",
    "counts = job.result().get_counts()\n",
    "\n",
    "qcomp = provider.get_backend('ibmq_bogota')\n",
    "job = execute(circ,backend=qcomp)\n",
    "\n",
    "from qiskit.tools.monitor import job_monitor\n",
    "job_monitor(job)\n",
    "\n",
    "counts_q = job.result().get_counts()"
   ]
  },
  {
   "cell_type": "code",
   "execution_count": null,
   "metadata": {},
   "outputs": [],
   "source": [
    "plot_histogram([counts,counts_q],legend=['simulator','device'])"
   ]
  },
  {
   "cell_type": "markdown",
   "metadata": {},
   "source": [
    "Crudely, it looks like about a quarter of the initial $\\left|+\\right\\rangle$ spins go into each state. There's a bit to unpack here, so let's do it carefully.\n",
    "\n",
    "The classical register stores the outcomes ('0' or '1' in qubit language corresponding to '+' or '-' in spin language) of a single measurement. Our \"counts\" tell us all of the classical register states and how many times each was observed. \n",
    "\n",
    "Let's start with '00'. In the spin language, this is '++'. But the register doesn't record the measurement direction, so we have to reintroduce that information when interpreting what it means. Recalling that we begin with a state $\\left|+\\right\\rangle$, we measured $\\hat{S}^{x}$ and then measured $\\hat{S}^{z}$. Thus, the state labeled by '00' means the measurment of $\\hat{S}^{x}$ returned +$\\frac{\\hbar}{2}$, projecting the system into the eigenstate $\\left|+\\right\\rangle_{x}$, and the subsequent measurement of $\\hat{S}^{z}$ resulted in $+\\frac{\\hbar}{2}$. Since the initialization <i>gave</i> us a state with $S^{z} = + \\frac{\\hbar}{2}$, this all seems quite reasonable.\n",
    "\n",
    "But the <i>funny</i> business concerns the existence of states '01' and '11'. The second register element being '1' indicates that the $\\hat{S}^{z}$ measurement returned $-\\frac{\\hbar}{2}$. This is bizarre because it's like observing that an apple is red, tasting it to find that it is sweet, and then looking to see that it is green. Well that's a sloppy analogy, but no analogy is perfect.\n"
   ]
  },
  {
   "cell_type": "markdown",
   "metadata": {},
   "source": [
    "Let's dive in to examine this more deeply. In the following exercises, you're going to make some simple modifications to the circuits presented above.\n",
    "\n",
    "<b>Exercise: </b> Perhaps a quantum measurement simply kicks the state randomly. Reconfigure the circuit to simply measure $\\hat{S}^{z}$ twice. Interpret your result in words."
   ]
  },
  {
   "cell_type": "code",
   "execution_count": null,
   "metadata": {},
   "outputs": [],
   "source": [
    "qr = QuantumRegister(1)\n",
    "cr = ClassicalRegister(2)\n",
    "\n",
    "circ = QuantumCircuit(qr,cr)\n",
    "circ = measure_sz(circ,0,1)\n",
    "circ = measure_sz(circ,0,0)\n",
    "circ.draw()\n",
    "\n",
    "job = execute(circ,backend=BasicAer.get_backend('qasm_simulator'),shots=1024)\n",
    "counts = job.result().get_counts()\n",
    "\n",
    "qcomp = provider.get_backend('ibmq_bogota')\n",
    "job = execute(circ,backend=qcomp)\n",
    "\n",
    "from qiskit.tools.monitor import job_monitor\n",
    "job_monitor(job)\n",
    "\n",
    "counts_q = job.result().get_counts()"
   ]
  },
  {
   "cell_type": "code",
   "execution_count": null,
   "metadata": {},
   "outputs": [],
   "source": [
    "plot_histogram([counts,counts_q],legend=['simulator','device'])"
   ]
  },
  {
   "cell_type": "markdown",
   "metadata": {},
   "source": [
    "Here we see that repeated measurements of $\\hat{S}^{z}$ consistently return the same value. That is, '00' refers to repeated measurements of \"+\" whereas a reading of '01' would follow from a measurement of $S^{z}\\rightarrow +\\frac{\\hbar}{2}$ followed by an immediate measurement of $S^{z}$ which yielded $-\\frac{\\hbar}{2}$. Given that '00' is essentially the only result (aside from noise, error), one can conclude that repeated measurements of $\\hat{S}^{z}$ will give the same value. \n",
    "\n",
    "It's only when a non-commuting observable is measured between successive measurements that different results are obtained."
   ]
  },
  {
   "cell_type": "markdown",
   "metadata": {},
   "source": [
    "<b>Exercise: </b> Instead of $\\hat{S}^{z}$, try measuring $\\hat{S}^{x}$ twice. Are the results the same as the previous case? Why or why not?"
   ]
  },
  {
   "cell_type": "markdown",
   "metadata": {},
   "source": [
    "<b>Solution: </b>"
   ]
  },
  {
   "cell_type": "code",
   "execution_count": null,
   "metadata": {},
   "outputs": [],
   "source": [
    "qr = QuantumRegister(1)\n",
    "cr = ClassicalRegister(2)\n",
    "\n",
    "circ = QuantumCircuit(qr,cr)\n",
    "circ = measure_sx(circ,0,1)\n",
    "circ = measure_sx(circ,0,0)\n",
    "circ.draw()\n",
    "\n",
    "job = execute(circ,backend=BasicAer.get_backend('qasm_simulator'),shots=1024)\n",
    "counts = job.result().get_counts()\n",
    "\n",
    "qcomp = provider.get_backend('ibmq_bogota')\n",
    "job = execute(circ,backend=qcomp)\n",
    "\n",
    "from qiskit.tools.monitor import job_monitor\n",
    "job_monitor(job)\n",
    "\n",
    "counts_q = job.result().get_counts()"
   ]
  },
  {
   "cell_type": "code",
   "execution_count": null,
   "metadata": {},
   "outputs": [],
   "source": [
    "plot_histogram([counts,counts_q],legend=['simulator','device'])"
   ]
  },
  {
   "cell_type": "markdown",
   "metadata": {},
   "source": [
    "From the histogram, we see that the measurements are roughly evenly divided between '00' and '11'. Recall that the circuit measures $\\hat{S}^{x}$ twice given an initial state of $\\left|+\\right\\rangle$. This splitting means that the initial state gives $S^{x} = \\pm\\frac{\\hbar}{2}$ with roughly equal frequency upon the first measurement. The only states with any significant probability (at the end of the circuit) are '00' and '11', so we can say definitively that any of the initial spins which registered $S^{x} = + \\frac{\\hbar}{2}$ upon the first measurement also give the same value in the second measurement (and similar for $S^{x} = -\\frac{\\hbar}{2}$).\n",
    "\n",
    "Given the results of the previous exercise, we can conclude that repeated measurements on an eigenstate (of that operator) will yield a consistent value for that observable. However, measuring <i>other</i> observables <i>can</i> destroy the notion of a well-defined value for the first observable. \n",
    "\n",
    "<b>Technical note: </b> We will see again and again that two <i>commuting</i> operators have simultaneous eigenvalues, so we can assign well-defined values to both quantities. It's when the operators don't commute that we run into this quantum weirdness. "
   ]
  },
  {
   "cell_type": "markdown",
   "metadata": {},
   "source": [
    "<b>Exercise</b>: Open the SPINS program and run the following simulation:\n",
    "\n",
    "<img src=\"http://linus.highpoint.edu/~jlancaster/QC/images/spins1.png\" alt=\"spins1\" width=\"600\"/>\n",
    "\n",
    "Now construct a quantum circuit to simulate this case. Note that the Stern-Gerlach setup only <i>analyzes</i> the $\\hat{S}^{x}$ states without recording a measurement. You can mimic this by modifying the function ```measure_sx()``` to ```analyze_sx()``` as follows:\n",
    "\n",
    "```\n",
    "def analyze_sx(circuit,qreg,creg):\n",
    "    circuit.ry(-np.pi/2,qreg)\n",
    "    #circuit.measure(qreg,creg)\n",
    "    circuit.ry(np.pi/2,qreg)\n",
    "    return circuit\n",
    "```\n",
    "\n",
    "This is sloppy programming, but it emphasizes that all you're changing is to delete the actual measurement. The rotation (and anti-rotation) still takes place and represents the \"analyzing\" done in the SPINS software. \n",
    "\n",
    "Interpret your results."
   ]
  },
  {
   "cell_type": "markdown",
   "metadata": {},
   "source": [
    "<b>Solution:</b>\n",
    "\n",
    "Here's the SPINS result for $N = 10^{4}$:\n",
    "\n",
    "<img src=\"http://linus.highpoint.edu/~jlancaster/QC/images/spins2.png\" alt=\"spins2\" width=\"600\"/>\n",
    "\n",
    "Note that all of the selected spins from the first analuzer make it to $+\\frac{\\hbar}{2}$ in the final analyzer. To simulate this:"
   ]
  },
  {
   "cell_type": "code",
   "execution_count": null,
   "metadata": {},
   "outputs": [],
   "source": [
    "def analyze_sx(circuit,qreg,creg):\n",
    "    circuit.ry(-np.pi/2,qreg)\n",
    "    #circuit.measure(qreg,creg)\n",
    "    circuit.ry(np.pi/2,qreg)\n",
    "    return circuit"
   ]
  },
  {
   "cell_type": "code",
   "execution_count": null,
   "metadata": {},
   "outputs": [],
   "source": [
    "qr = QuantumRegister(1)\n",
    "cr = ClassicalRegister(2)\n",
    "\n",
    "circ = QuantumCircuit(qr,cr)\n",
    "circ = analyze_sx(circ,0,1)\n",
    "circ = measure_sz(circ,0,0)\n",
    "circ.draw()"
   ]
  },
  {
   "cell_type": "code",
   "execution_count": null,
   "metadata": {},
   "outputs": [],
   "source": [
    "job = execute(circ,backend=BasicAer.get_backend('qasm_simulator'),shots=1024)\n",
    "counts = job.result().get_counts()\n",
    "\n",
    "qcomp = provider.get_backend('ibmq_bogota')\n",
    "job = execute(circ,backend=qcomp)\n",
    "\n",
    "from qiskit.tools.monitor import job_monitor\n",
    "job_monitor(job)\n",
    "\n",
    "counts_q = job.result().get_counts()"
   ]
  },
  {
   "cell_type": "code",
   "execution_count": null,
   "metadata": {},
   "outputs": [],
   "source": [
    "plot_histogram([counts,counts_q],legend=['simulator','device'])"
   ]
  },
  {
   "cell_type": "markdown",
   "metadata": {},
   "source": [
    "Despite the rotations involved in \"analyzing\" the spin component, essentially all states still $\\left|+\\right\\rangle$. It appears that the measurement of $\\hat{S}^{x}$ is crucial in destroying the coherence of this initial state."
   ]
  }
 ],
 "metadata": {
  "kernelspec": {
   "display_name": "Python 3 (ipykernel)",
   "language": "python",
   "name": "python3"
  },
  "language_info": {
   "codemirror_mode": {
    "name": "ipython",
    "version": 3
   },
   "file_extension": ".py",
   "mimetype": "text/x-python",
   "name": "python",
   "nbconvert_exporter": "python",
   "pygments_lexer": "ipython3",
   "version": "3.9.5"
  }
 },
 "nbformat": 4,
 "nbformat_minor": 4
}
