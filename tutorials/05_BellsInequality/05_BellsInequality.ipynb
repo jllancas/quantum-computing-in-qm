{
 "cells": [
  {
   "cell_type": "markdown",
   "id": "f2724c97",
   "metadata": {},
   "source": [
    "# PHY 3310 - Quantum Mechanics\n",
    "# Bell's Inequality\n",
    "-----------------------------------------------------------"
   ]
  },
  {
   "cell_type": "markdown",
   "id": "287f88bc",
   "metadata": {},
   "source": [
    "Consider a thought experiment involving the singlet state\n",
    "\n",
    "$$\\left|\\psi\\right\\rangle = \\frac{1}{\\sqrt{2}}\\left(\\left|+\\right\\rangle\\left|-\\right\\rangle - \\left|-\\right\\rangle\\left|+\\right\\rangle\\right).$$\n",
    "\n",
    "In this thought experiment, each of the individual spins is sent to a separate observer. The observers have agreed to measure spin along one of three pre-defined axes, $\\hat{\\bf a}$, $\\hat{\\bf b}$, $\\hat{\\bf c}$. Each observer selects one of these axes at random for each measurement, and this process is repeated many times. At the end of the experiment, the observers can compare their measurements. Because the observers <i>might</i> use different axes for the measurement of a given singlet, it is possible that each obtains $+\\frac{\\hbar}{2}$ (or $-\\frac{\\hbar}{2}$) for their portion of the same singlet. The perfect anticorrelation appears somewhat smoothed out by this randomized axis choice.\n",
    "\n",
    "In class, we showed that one may obtain an upper bound on the probability of both observers obtaning the same value for a given measurement by assuming some hidden variable exists which fixes the outcome of the spin measurement along any of these axes. This hidden variable partitions the (seemingly identical) individual spins into nine different \"types,\" and we showed that this implies\n",
    "\n",
    "$$P_{same} \\leq \\frac{4}{9},$$\n",
    "$$P_{opp} \\geq \\frac{5}{9}.$$\n",
    "\n",
    "These conditions represent a particular case of the more general <b>Bell inequality</b>, which imposes constraints on the emergent probability distribution for the results of such an experiment. This is notable, because one can also use the basic postulates of quantum mechanics to make corresponding predictions for $P_{same}$ and $P_{opp}$. For a given set of two axes $\\hat{\\bf n}$ and $\\hat{\\bf n}'$, we found\n",
    "\n",
    "$$P_{same}(\\hat{\\bf n},\\hat{\\bf n}') = \\sin^{2}\\theta_{\\hat{n}\\hat{n}'},$$\n",
    "\n",
    "with $P_{opp}(\\hat{\\bf n},\\hat{\\bf n}') = \\cos^{2}\\theta_{\\hat{n}\\hat{n}'}$ and $\\theta_{\\hat{n}\\hat{n}'}$ is the angle between $\\hat{\\bf n}$ and $\\hat{\\bf n}'$. With the observers each randomly selecting their axes, we really have nine cases to consider. For simplicity, let's imagine $\\hat{\\bf a} = \\hat{\\bf z}$ while $\\hat{\\bf b}$ and $\\hat{\\bf c}$ are given by $\\hat{\\bf n}(\\pm\\theta,\\phi=0)$ for some choice of $\\theta$. Then averaging over the nine axis choice possibilities gives\n",
    "\n",
    "$$P_{same} = \\frac{1}{9}\\left(4\\sin^{2}\\frac{\\theta}{2}+2\\sin^{2}\\theta\\right),$$\n",
    "$$P_{opp} = \\frac{1}{9}\\left(3+4\\cos^{2}\\frac{\\theta}{2}+2\\cos^{2}\\theta\\right),$$\n",
    "\n",
    "Note that for $\\theta = \\frac{2\\pi}{3}$ we get\n",
    "\n",
    "$$P_{same} = P_{opp} = \\frac{1}{2}.$$\n",
    "\n",
    "This result is in direct conflict with the Bell inequalities. Let us build a circuit that will let us actually perform this experiment using the qubits to represent the spins in a singlet. "
   ]
  },
  {
   "cell_type": "code",
   "execution_count": 1,
   "id": "9a5f808d",
   "metadata": {},
   "outputs": [],
   "source": [
    "import numpy as np\n",
    "from matplotlib import pyplot as plt\n",
    "from qiskit import *\n",
    "\n",
    "from qiskit.primitives import StatevectorSampler"
   ]
  },
  {
   "cell_type": "markdown",
   "id": "28b22fda",
   "metadata": {},
   "source": [
    "Let us define the angles for the three measurement axes as follows:"
   ]
  },
  {
   "cell_type": "code",
   "execution_count": 2,
   "id": "7bf0853f",
   "metadata": {},
   "outputs": [],
   "source": [
    "θa = 0.0\n",
    "θb = 2*np.pi/3\n",
    "θc = -2*np.pi/3\n",
    "\n",
    "θ = [θa, θb, θc]"
   ]
  },
  {
   "cell_type": "markdown",
   "id": "5e5c0341",
   "metadata": {},
   "source": [
    "Our actual circuit will thread random choices for the first observer's axis choice and the second observer's axis choice. Additionally, we need to first create the singlet state by entangling two individual qubits. The method employed will be discussed in the next section, so we can just take on faith that this works for now. At least note that all this circuit does is to create a particular state involving several gates and then perform the appropriate rotations to measure each spin along a particular axis."
   ]
  },
  {
   "cell_type": "code",
   "execution_count": 10,
   "id": "dfaaad03",
   "metadata": {},
   "outputs": [
    {
     "data": {
      "image/png": "[encoded data removed]",
      "text/plain": [
       "<Figure size 788.961x284.278 with 1 Axes>"
      ]
     },
     "execution_count": 10,
     "metadata": {},
     "output_type": "execute_result"
    }
   ],
   "source": [
    "from qiskit.circuit import Parameter\n",
    "theta1, theta2 = Parameter('θ1'), Parameter('θ2')\n",
    "\n",
    "qr = QuantumRegister(2,'q')\n",
    "cr = ClassicalRegister(2,'c')\n",
    "circ = QuantumCircuit(qr,cr)\n",
    "circ.h(0)\n",
    "circ.x(1)\n",
    "circ.cx(0,1)\n",
    "circ.z(0)\n",
    "circ.barrier(qr)\n",
    "circ.ry(-theta1,0)\n",
    "circ.ry(-theta2,1)\n",
    "circ.barrier(qr)\n",
    "circ.measure(qr,cr)\n",
    "circ.draw('mpl')"
   ]
  },
  {
   "cell_type": "markdown",
   "id": "d45ac90b",
   "metadata": {},
   "source": [
    "To simulate the thought experiment, let us consider a long list of random axis choices. There are really only 9 possible combinations, so we could technicall consider only nine cases and just use a larger number of shots per choice. But in the spirit of a true simulation, we'll make a long list of rancom choices.\n",
    "\n",
    "For each of these $N$ choices, we randomly select a $\\theta$ from the list for each observer. Just to get the best statistical gain for our buck, we'll take a large number of shots for each random configuration. \n",
    "\n",
    "Once we get the final counts, we simply have to look at the relative fraction of measurements for which the same result ('00' or '11') was obtained by both observers and the relative fraction for which the opposite result ('01' or '10') was obtained by the observer"
   ]
  },
  {
   "cell_type": "code",
   "execution_count": 11,
   "id": "815984f8-1798-4d7a-a7ea-a5785542162d",
   "metadata": {},
   "outputs": [],
   "source": [
    "N = 2000\n",
    "\n",
    "theta1_vals = np.zeros(N)\n",
    "theta2_vals = np.zeros(N)\n",
    "\n",
    "for i in range(0,N):\n",
    "    theta1_vals[i] = θ[np.random.randint(3)]\n",
    "    theta2_vals[i] = θ[np.random.randint(3)]\n",
    "\n",
    "\n",
    "# Define a sweep over parameter values, where the second axis is over.\n",
    "# the two parameters in the circuit.\n",
    "params = np.vstack([\n",
    "    theta1_vals,\n",
    "    theta2_vals\n",
    "]).T\n",
    "\n",
    "nshots = 1\n",
    "\n",
    "sampler = StatevectorSampler()\n",
    "\n",
    "pub = (circ, params)\n",
    "job = sampler.run([pub], shots=nshots)\n",
    " \n",
    "# Extract the result for the 0th pub (this example only has one pub).\n",
    "result = job.result()[0]"
   ]
  },
  {
   "cell_type": "code",
   "execution_count": 12,
   "id": "f0d55e11",
   "metadata": {},
   "outputs": [],
   "source": [
    "Psame = 0\n",
    "Popp = 0\n",
    "\n",
    "for i in range(0,N):\n",
    "    counts = result.data.c.get_counts(i)\n",
    "    for j in range(0,len(list(counts.keys()))):\n",
    "        if list(counts.keys())[j] == '00' or list(counts.keys())[j] == '11':\n",
    "            Psame = Psame + counts[list(counts.keys())[j]]/(N*nshots)\n",
    "        else:\n",
    "            Popp = Popp + counts[list(counts.keys())[j]]/(N*nshots)"
   ]
  },
  {
   "cell_type": "code",
   "execution_count": 13,
   "id": "13242cbf-d300-410c-b4c5-d2dd2cd3f141",
   "metadata": {},
   "outputs": [
    {
     "name": "stdout",
     "output_type": "stream",
     "text": [
      "Psame = 0.5039999999999999 while Bell predicts Psame < 0.4444444444444444\n",
      "Popp = 0.4960000000000004 while Bell predicts Popp > 0.5555555555555556\n"
     ]
    }
   ],
   "source": [
    "print('Psame = '+str(Psame) + ' while Bell predicts Psame < ' + str(4.0/9.0))\n",
    "print('Popp = '+str(Popp) + ' while Bell predicts Popp > ' + str(5.0/9.0))"
   ]
  },
  {
   "cell_type": "markdown",
   "id": "c059bf06",
   "metadata": {},
   "source": [
    "You should find that the simulator shows a violation of the Bell inequalities. The next step is to run this on an actual computer. Using $N = 900$ is a little risky because only certain machines support this number of circuits threaded into a single job (```ibm_lagos```, ```ibmg_jakarta```, ```ibmq_casablanca``` are the ones for which we have access). If you end up using a five qubit machine, you'll need to drop $N$ down to 75."
   ]
  },
  {
   "cell_type": "markdown",
   "id": "a7ca745d-a1ec-4ac2-ac2a-723b8bb9300b",
   "metadata": {},
   "source": [
    "<b>Trying on real device</b>"
   ]
  },
  {
   "cell_type": "code",
   "execution_count": 15,
   "id": "e4957230-3fb8-432d-ae66-48b3ad8e32dc",
   "metadata": {},
   "outputs": [
    {
     "data": {
      "text/plain": [
       "'ibm_sherbrooke'"
      ]
     },
     "execution_count": 15,
     "metadata": {},
     "output_type": "execute_result"
    }
   ],
   "source": [
    "# To run on hardware, select the backend with the fewest number of jobs in the queue\n",
    "from qiskit_ibm_runtime import QiskitRuntimeService\n",
    "\n",
    "service = QiskitRuntimeService(channel=\"ibm_quantum\")\n",
    "backend = service.least_busy(operational=True, simulator=False, min_num_qubits=127)\n",
    "backend.name"
   ]
  },
  {
   "cell_type": "code",
   "execution_count": 86,
   "id": "6cc952cb-300d-499f-8342-98e1310b0708",
   "metadata": {},
   "outputs": [],
   "source": [
    "from qiskit.transpiler.preset_passmanagers import generate_preset_pass_manager\n",
    "\n",
    "pm = generate_preset_pass_manager(backend=backend, optimization_level=3)\n",
    "isa_circuit = pm.run(circ)"
   ]
  },
  {
   "cell_type": "code",
   "execution_count": null,
   "id": "a50a702f-661a-4ed4-b263-d6d98ccb9fbe",
   "metadata": {},
   "outputs": [],
   "source": [
    "# Step 3: Execute using Qiskit primitives.\n",
    "from qiskit_ibm_runtime import QiskitRuntimeService, SamplerV2 as Sampler\n",
    " \n",
    "\n",
    "sampler = Sampler(backend)\n",
    "job = sampler.run([(isa_circuit, params)],shots=nshots)\n",
    "\n",
    "job_result = job.result()"
   ]
  },
  {
   "cell_type": "code",
   "execution_count": 22,
   "id": "85c39da0-5749-4f35-b8e9-ad778a1f9b79",
   "metadata": {},
   "outputs": [],
   "source": [
    "Nsame = 0\n",
    "Nopp = 0\n",
    "\n",
    "for i in range(0,N):\n",
    "    counts = job_result[0].data.c3.get_counts(i)\n",
    "    for j in range(0,len(list(counts.keys()))):\n",
    "        if list(counts.keys())[j] == '00' or list(counts.keys())[j] == '11':\n",
    "            Nsame = Nsame + counts[list(counts.keys())[j]]\n",
    "        else:\n",
    "            Nopp = Nopp + counts[list(counts.keys())[j]]\n",
    "\n",
    "Psame = Nsame/(N*nshots)\n",
    "Popp = Nopp/(N*nshots)\n"
   ]
  },
  {
   "cell_type": "code",
   "execution_count": 26,
   "id": "6027bc65-027f-4683-89ba-654606fb9e85",
   "metadata": {},
   "outputs": [
    {
     "name": "stdout",
     "output_type": "stream",
     "text": [
      "Psame = 0.481 while Bell predicts Psame < 0.4444444444444444\n",
      "Popp = 0.519 while Bell predicts Popp > 0.5555555555555556\n"
     ]
    }
   ],
   "source": [
    "print('Psame = '+str(Psame) + ' while Bell predicts Psame < ' + str(4.0/9.0))\n",
    "print('Popp = '+str(Popp) + ' while Bell predicts Popp > ' + str(5.0/9.0))"
   ]
  },
  {
   "cell_type": "markdown",
   "id": "78eeb437",
   "metadata": {},
   "source": [
    "<b>Exercise 1: </b> Do the quantum computer results violate Bell's theorem?"
   ]
  },
  {
   "cell_type": "markdown",
   "id": "9201e979",
   "metadata": {},
   "source": [
    "<b>Answer: </b> Yes, very much in agreement with the predictions of QM."
   ]
  },
  {
   "cell_type": "markdown",
   "id": "78703d98",
   "metadata": {},
   "source": [
    "<b>Exercise 2: </b> Make a plot of the quantum mechanical predictions $P_{same}(\\theta)$ and $P_{opp}(\\theta)$. Find some choice of $\\theta$ for which Bell's inequalities are <i>not</i> violated. Make a copy of the circuit used above with this choice of $\\theta$, and assess whether the quantum mechanical predictions are valid."
   ]
  },
  {
   "cell_type": "markdown",
   "id": "696a4340",
   "metadata": {},
   "source": [
    "<b>Solution: </b>"
   ]
  },
  {
   "cell_type": "code",
   "execution_count": 123,
   "id": "fac20ad8",
   "metadata": {},
   "outputs": [
    {
     "data": {
      "image/png": "[encoded data removed]",
      "text/plain": [
       "<Figure size 640x480 with 1 Axes>"
      ]
     },
     "metadata": {},
     "output_type": "display_data"
    }
   ],
   "source": [
    "Ntheta = 300\n",
    "theta_range = np.linspace(0,np.pi,Ntheta)\n",
    "\n",
    "plt.plot(theta_range,(1/9)*(4*(np.sin(theta_range/2)**2) + 2*(np.sin(theta_range)**2)),'b-')\n",
    "plt.plot(theta_range,(1/9)*(3+4*(np.cos(theta_range/2)**2) + 2*(np.cos(theta_range)**2)),'r-')\n",
    "plt.plot(theta_range,(4/9)*np.ones(Ntheta),'b--')\n",
    "plt.plot(theta_range,(5/9)*np.ones(Ntheta),'r--')\n",
    "plt.xlabel('θ')\n",
    "plt.ylabel('probability')\n",
    "plt.show()"
   ]
  },
  {
   "cell_type": "markdown",
   "id": "1efb1151",
   "metadata": {},
   "source": [
    "Fromt the plot, $\\theta = \\frac{\\pi}{3}$ corresponds to a region in which Bell's inequality is satisfied. Specifically,\n",
    "\n",
    "$$P_{same} = \\frac{5}{18}\\approx 0.278 ,\\;\\;\\;\\;\\;\\;\\;\\; P_{opp} = \\frac{13}{18} \\approx 0.722.$$\n",
    "\n",
    "In this case, Bell's inequality is not violated. We can repeat the circuit using $\\theta = \\frac{\\pi}{3}$ as follows."
   ]
  },
  {
   "cell_type": "code",
   "execution_count": 116,
   "id": "283b080b",
   "metadata": {},
   "outputs": [
    {
     "name": "stdout",
     "output_type": "stream",
     "text": [
      "Psame = 0.2944444444444452 while Bell predicts Psame < 0.4444444444444444\n",
      "Popp = 0.7055555555555486 while Bell predicts Popp > 0.5555555555555556\n"
     ]
    }
   ],
   "source": [
    "#simulator\n",
    "\n",
    "θa = 0.0\n",
    "θb = np.pi/3\n",
    "θc = -np.pi/3\n",
    "\n",
    "θ = [θa, θb, θc]\n",
    "\n",
    "theta1, theta2 = Parameter('θ1'), Parameter('θ2')\n",
    "\n",
    "qr = QuantumRegister(2)\n",
    "cr = ClassicalRegister(2,'c')\n",
    "circ = QuantumCircuit(qr,cr)\n",
    "circ.h(0)\n",
    "circ.x(1)\n",
    "circ.cx(0,1)\n",
    "circ.z(0)\n",
    "circ.barrier(qr)\n",
    "circ.ry(-theta1,0)\n",
    "circ.ry(-theta2,1)\n",
    "circ.barrier(qr)\n",
    "circ.measure(qr,cr)\n",
    "circ.draw()\n",
    "\n",
    "N = 900\n",
    "\n",
    "nshots = 1024\n",
    "\n",
    "theta1_vals = np.zeros(N)\n",
    "theta2_vals = np.zeros(N)\n",
    "\n",
    "for i in range(0,N):\n",
    "    theta1_vals[i] = θ[np.random.randint(3)]\n",
    "    theta2_vals[i] = θ[np.random.randint(3)]\n",
    "\n",
    "params = np.vstack([\n",
    "    theta1_vals,\n",
    "    theta2_vals\n",
    "]).T\n",
    "\n",
    "nshots = 1\n",
    "\n",
    "sampler = StatevectorSampler()\n",
    "\n",
    "pub = (circ, params)\n",
    "job = sampler.run([pub], shots=nshots)\n",
    " \n",
    "# Extract the result for the 0th pub (this example only has one pub).\n",
    "result = job.result()[0]\n",
    "\n",
    "\n",
    "Psame = 0\n",
    "Popp = 0\n",
    "\n",
    "for i in range(0,N):\n",
    "    counts = result.data.c.get_counts(i)\n",
    "    for j in range(0,len(list(counts.keys()))):\n",
    "        if list(counts.keys())[j] == '00' or list(counts.keys())[j] == '11':\n",
    "            Psame = Psame + counts[list(counts.keys())[j]]/(N*nshots)\n",
    "        else:\n",
    "            Popp = Popp + counts[list(counts.keys())[j]]/(N*nshots)\n",
    "\n",
    "print('Psame = '+str(Psame) + ' while Bell predicts Psame < ' + str(4.0/9.0))\n",
    "print('Popp = '+str(Popp) + ' while Bell predicts Popp > ' + str(5.0/9.0))"
   ]
  },
  {
   "cell_type": "markdown",
   "id": "2a3ed02b",
   "metadata": {},
   "source": [
    "Note that the actual values obtained are consistent with the predictions from QM shown above."
   ]
  },
  {
   "cell_type": "code",
   "execution_count": null,
   "id": "d6ee1491-5b32-42ac-8c59-bf6b6069b891",
   "metadata": {},
   "outputs": [],
   "source": [
    "#actual device"
   ]
  },
  {
   "cell_type": "code",
   "execution_count": 117,
   "id": "7af5f2e3-9173-41ec-96ad-08feb4737914",
   "metadata": {},
   "outputs": [
    {
     "data": {
      "text/plain": [
       "'ibm_kyoto'"
      ]
     },
     "execution_count": 117,
     "metadata": {},
     "output_type": "execute_result"
    }
   ],
   "source": [
    "service = QiskitRuntimeService(channel=\"ibm_quantum\")\n",
    "backend = service.least_busy(operational=True, simulator=False, min_num_qubits=127)\n",
    "backend.name"
   ]
  },
  {
   "cell_type": "code",
   "execution_count": 118,
   "id": "a83aa0d2-71e4-4669-b538-1d9a6b116959",
   "metadata": {},
   "outputs": [],
   "source": [
    "from qiskit.transpiler.preset_passmanagers import generate_preset_pass_manager\n",
    "\n",
    "pm = generate_preset_pass_manager(backend=backend, optimization_level=3)\n",
    "isa_circuit = pm.run(circ)"
   ]
  },
  {
   "cell_type": "code",
   "execution_count": null,
   "id": "c141f03b-e815-4e89-aa84-a211c1503b76",
   "metadata": {},
   "outputs": [],
   "source": [
    "sampler = Sampler(backend)\n",
    "job = sampler.run([(isa_circuit, params)],shots=nshots)\n",
    "\n",
    "result = job.result()"
   ]
  },
  {
   "cell_type": "code",
   "execution_count": 120,
   "id": "88a0d048-cab1-4f61-98e4-0c913fd4f717",
   "metadata": {},
   "outputs": [
    {
     "name": "stdout",
     "output_type": "stream",
     "text": [
      "Psame = 0.28000000000000064 while Bell predicts Psame < 0.4444444444444444\n",
      "Popp = 0.7199999999999924 while Bell predicts Popp > 0.5555555555555556\n"
     ]
    }
   ],
   "source": [
    "Psame = 0\n",
    "Popp = 0\n",
    "\n",
    "for i in range(0,N):\n",
    "    counts = result[0].data.c.get_counts(i)\n",
    "    for j in range(0,len(list(counts.keys()))):\n",
    "        if list(counts.keys())[j] == '00' or list(counts.keys())[j] == '11':\n",
    "            Psame = Psame + counts[list(counts.keys())[j]]/(N*nshots)\n",
    "        else:\n",
    "            Popp = Popp + counts[list(counts.keys())[j]]/(N*nshots)\n",
    "\n",
    "print('Psame = '+str(Psame) + ' while Bell predicts Psame < ' + str(4.0/9.0))\n",
    "print('Popp = '+str(Popp) + ' while Bell predicts Popp > ' + str(5.0/9.0))"
   ]
  },
  {
   "cell_type": "markdown",
   "id": "4059d9a1-5a33-4432-a512-441d96204500",
   "metadata": {},
   "source": [
    "## Version information:"
   ]
  },
  {
   "cell_type": "code",
   "execution_count": 121,
   "id": "ac577ad2-e4aa-462d-bd6f-7e6f410d5931",
   "metadata": {},
   "outputs": [
    {
     "data": {
      "text/plain": [
       "'0.25.0'"
      ]
     },
     "execution_count": 121,
     "metadata": {},
     "output_type": "execute_result"
    }
   ],
   "source": [
    "import qiskit_ibm_runtime\n",
    "\n",
    "qiskit_ibm_runtime.version.get_version_info()"
   ]
  },
  {
   "cell_type": "code",
   "execution_count": 122,
   "id": "f9180aa4-f751-4dc3-9200-e3f4c889f93f",
   "metadata": {},
   "outputs": [
    {
     "data": {
      "text/plain": [
       "'1.1.1'"
      ]
     },
     "execution_count": 122,
     "metadata": {},
     "output_type": "execute_result"
    }
   ],
   "source": [
    "import qiskit \n",
    "\n",
    "qiskit.version.get_version_info()"
   ]
  }
 ],
 "metadata": {
  "kernelspec": {
   "display_name": "Python 3 (ipykernel)",
   "language": "python",
   "name": "python3"
  },
  "language_info": {
   "codemirror_mode": {
    "name": "ipython",
    "version": 3
   },
   "file_extension": ".py",
   "mimetype": "text/x-python",
   "name": "python",
   "nbconvert_exporter": "python",
   "pygments_lexer": "ipython3",
   "version": "3.8.5"
  },
  "widgets": {
   "application/vnd.jupyter.widget-state+json": {
    "state": {},
    "version_major": 2,
    "version_minor": 0
   }
  }
 },
 "nbformat": 4,
 "nbformat_minor": 5
}
