{
 "cells": [
  {
   "cell_type": "markdown",
   "id": "f2724c97",
   "metadata": {},
   "source": [
    "# PHY 3310 - Quantum Mechanics\n",
    "# Multiparticle states and entanglement\n",
    "-----------------------------------------------------------"
   ]
  },
  {
   "cell_type": "markdown",
   "id": "25d78a42",
   "metadata": {},
   "source": [
    "Our focus this week is on multiparticle states and \"spooky\" entanglement. Here we will finally begin to utilize more than one qubit and set up quantum gates which act on two qubits."
   ]
  },
  {
   "cell_type": "code",
   "execution_count": 1,
   "id": "9a5f808d",
   "metadata": {},
   "outputs": [],
   "source": [
    "import numpy as np\n",
    "from matplotlib import pyplot as plt\n",
    "from qiskit import *"
   ]
  },
  {
   "cell_type": "code",
   "execution_count": null,
   "id": "3c49fb17",
   "metadata": {},
   "outputs": [],
   "source": [
    "IBMQ.load_account() "
   ]
  },
  {
   "cell_type": "markdown",
   "id": "66935149",
   "metadata": {},
   "source": [
    "Let's introduce the Hadamard gate: $H\\left|+\\right\\rangle = \\left|+\\right\\rangle_{x}$, $H\\left|-\\right\\rangle = \\left|-\\right\\rangle_{x}$. \n",
    "\n",
    "Matrix representation:\n",
    "\n",
    "$\\displaystyle \\hat{H} \\dot{=} \\frac{1}{\\sqrt{2}}\\left(\\begin{array}{cc} 1 & 1 \\\\ 1 & -1\\end{array}\\right)$\n",
    "\n",
    "Note, however, that this is just a $\\hat{U}$ gate with $\\theta = \\frac{\\pi}{2}$, $\\phi = 0$, $\\lambda = \\pi$ where\n",
    "\n",
    "$\\displaystyle \\hat{U}(\\theta,\\phi,\\lambda) = \\left(\\begin{array}{cc} \\cos\\frac{\\theta}{2} & -e^{i\\lambda}\\sin\\frac{\\theta}{2}\\\\ e^{i\\phi}\\sin\\frac{\\theta}{2} & e^{-i(\\phi + \\lambda)}\\cos\\frac{\\theta}{2}\\end{array}\\right)$.\n",
    "\n",
    "Because this particular gate (which takes the states $\\left|\\pm\\right\\rangle$ to $\\left|\\pm\\right\\rangle_{x}$, respectively) is so commonly used, it's often invoked as ```h(qr)``` directly instead of using ```u(0.5*np.pi,0,np.pi)```.\n",
    "\n",
    "One can quickly verify that this gate does take $\\left|+\\right\\rangle$ to $\\left|+\\right\\rangle_{x}$ by applying it to newly initialized qubits and measuring $\\hat{S}^{z}$."
   ]
  },
  {
   "cell_type": "code",
   "execution_count": 16,
   "id": "5e92ee54",
   "metadata": {},
   "outputs": [
    {
     "data": {
      "text/html": [
       "<pre style=\"word-wrap: normal;white-space: pre;background: #fff0;line-height: 1.1;font-family: &quot;Courier New&quot;,Courier,monospace\">       ┌───┐ ░ ┌─┐\n",
       "q16_0: ┤ H ├─░─┤M├\n",
       "       └───┘ ░ └╥┘\n",
       " c2: 1/═════════╩═\n",
       "                0 </pre>"
      ],
      "text/plain": [
       "       ┌───┐ ░ ┌─┐\n",
       "q16_0: ┤ H ├─░─┤M├\n",
       "       └───┘ ░ └╥┘\n",
       " c2: 1/═════════╩═\n",
       "                0 "
      ]
     },
     "execution_count": 16,
     "metadata": {},
     "output_type": "execute_result"
    }
   ],
   "source": [
    "qr = QuantumRegister(1)\n",
    "cr = ClassicalRegister(1)\n",
    "\n",
    "hcirc = QuantumCircuit(qr,cr)\n",
    "hcirc.h(0)\n",
    "hcirc.barrier(range(1))\n",
    "hcirc.measure(qr, cr)\n",
    "hcirc.draw()"
   ]
  },
  {
   "cell_type": "code",
   "execution_count": 17,
   "id": "049511aa",
   "metadata": {},
   "outputs": [
    {
     "data": {
      "image/png": "[encoded data removed]",
      "text/plain": [
       "<Figure size 504x360 with 1 Axes>"
      ]
     },
     "execution_count": 17,
     "metadata": {},
     "output_type": "execute_result"
    }
   ],
   "source": [
    "Nshot = 8192\n",
    "job = execute(hcirc,\n",
    "              backend=BasicAer.get_backend('qasm_simulator'),shots=Nshot)\n",
    "\n",
    "counts = job.result().get_counts()\n",
    "\n",
    "from qiskit.tools.visualization import plot_histogram\n",
    "plot_histogram(counts)"
   ]
  },
  {
   "cell_type": "markdown",
   "id": "1fecf8c4",
   "metadata": {},
   "source": [
    "As expected, we find half the states to be $\\left|+\\right\\rangle$ and the other half to be $\\left|-\\right\\rangle$, entirely consistent with the Hadamard gate creating $\\left|+\\right\\rangle_{x}$ from the initialized $\\left|+\\right\\rangle$ states.\n",
    "\n",
    "Now let's talk <i>entanglement</i>, and try to create the following state:\n",
    "\n",
    "$\\left|\\psi\\right\\rangle = \\frac{1}{\\sqrt{2}}\\left(\\left|+\\right\\rangle\\left|-\\right\\rangle - \\left|-\n",
    "\\right\\rangle\\left|+\\right\\rangle \\right),$\n",
    "\n",
    "also sometimes written $\\frac{1}{\\sqrt{2}}\\left(\\left|+-\\right\\rangle - \\left|-+\\right\\rangle \\right).$\n",
    "\n",
    "Starting from $\\left|++\\right\\rangle$, we can apply $\\hat{H}$ to the first spin, obtaining $\\frac{1}{\\sqrt{2}}\\left(\\left|++\\right\\rangle + \\left|-+\\right\\rangle\\right)$. \n",
    "\n",
    "Next, the second spin needs to be flipped to $\\left|-\\right\\rangle$ <i>only</i> in the first term. One way of phrasing this task is: \"if the first spin state is $\\left|+\\right\\rangle$, change the state of the second spin from $\\left|+\\right\\rangle$ to $\\left|-\\right\\rangle$. This is our first example of a multispin (or multiqubit) gate. It turns out that the $CNOT$ (controlled \"not\") gate accomplishes almost this:\n",
    "\n",
    "$CNOT\\left|++\\right\\rangle = \\left|++\\right\\rangle$\n",
    "\n",
    "$CNOT\\left|+-\\right\\rangle = \\left|+-\\right\\rangle$\n",
    "\n",
    "$CNOT\\left|-+\\right\\rangle = \\left|--\\right\\rangle$\n",
    "\n",
    "$CNOT\\left|--\\right\\rangle = \\left|-+\\right\\rangle$\n",
    "\n",
    "Here we use the first spin as the \"control\" spin. If the first state is $\\left|-\\right\\rangle$, then the second state is swapped. Otherwise, the two-spin state is unchanged. This gate by itself won't turn our state into the singlet. <i>But</i> if we flip the second spin first\n",
    "\n",
    "$\\frac{1}{\\sqrt{2}}\\left(\\left|++\\right\\rangle + \\left|-+\\right\\rangle\\right) \\rightarrow \\frac{1}{\\sqrt{2}}\\left(\\left|+-\\right\\rangle + \\left|--\\right\\rangle\\right),$\n",
    "\n",
    "an application of $CNOT$ takes us almost to the singlet. The final step needs to change the sign of the $\\left|-+\\right\\rangle$ term. This can be accomplished by the following unitary operation $\\hat{U}(0, \\pi, 0)$ acting on the first spin. This gate is equivalent to $\\sigma^{z}$ and sometimes given the label $\\hat{Z}$.Thus we need the following circuit:"
   ]
  },
  {
   "cell_type": "code",
   "execution_count": 18,
   "id": "644f6f99",
   "metadata": {},
   "outputs": [
    {
     "data": {
      "text/html": [
       "<pre style=\"word-wrap: normal;white-space: pre;background: #fff0;line-height: 1.1;font-family: &quot;Courier New&quot;,Courier,monospace\">       ┌───┐     ┌───┐ ░ ┌─┐   \n",
       "q20_0: ┤ H ├──■──┤ Z ├─░─┤M├───\n",
       "       ├───┤┌─┴─┐└───┘ ░ └╥┘┌─┐\n",
       "q20_1: ┤ X ├┤ X ├──────░──╫─┤M├\n",
       "       └───┘└───┘      ░  ║ └╥┘\n",
       " c3: 2/═══════════════════╩══╩═\n",
       "                          0  1 </pre>"
      ],
      "text/plain": [
       "       ┌───┐     ┌───┐ ░ ┌─┐   \n",
       "q20_0: ┤ H ├──■──┤ Z ├─░─┤M├───\n",
       "       ├───┤┌─┴─┐└───┘ ░ └╥┘┌─┐\n",
       "q20_1: ┤ X ├┤ X ├──────░──╫─┤M├\n",
       "       └───┘└───┘      ░  ║ └╥┘\n",
       " c3: 2/═══════════════════╩══╩═\n",
       "                          0  1 "
      ]
     },
     "execution_count": 18,
     "metadata": {},
     "output_type": "execute_result"
    }
   ],
   "source": [
    "qr = QuantumRegister(2)\n",
    "cr = ClassicalRegister(2)\n",
    "singlet = QuantumCircuit(qr,cr)\n",
    "singlet.h(0)\n",
    "singlet.x(1)\n",
    "singlet.cnot(0,1)\n",
    "singlet.z(0)\n",
    "singlet.barrier(range(2))\n",
    "singlet.measure(qr, cr)\n",
    "singlet.draw()"
   ]
  },
  {
   "cell_type": "markdown",
   "id": "f43d9b6d",
   "metadata": {},
   "source": [
    "Measurement as employed above won't confirm the relative phase (and can't distinguish $\\frac{1}{\\sqrt{2}}\\left(\\left|+-\\right\\rangle - \\left|-+\\right\\rangle\\right)$ from $\\frac{1}{\\sqrt{2}}\\left(\\left|+-\\right\\rangle + \\left|-+\\right\\rangle\\right)$), but it does confirm that our state is an equal combination of $\\left|+-\\right\\rangle$ and $\\left|-+\\right\\rangle$."
   ]
  },
  {
   "cell_type": "code",
   "execution_count": 19,
   "id": "e6e88834",
   "metadata": {},
   "outputs": [
    {
     "data": {
      "image/png": "[encoded data removed]",
      "text/plain": [
       "<Figure size 504x360 with 1 Axes>"
      ]
     },
     "execution_count": 19,
     "metadata": {},
     "output_type": "execute_result"
    }
   ],
   "source": [
    "Nshot = 8192\n",
    "job = execute(singlet,\n",
    "              backend=BasicAer.get_backend('qasm_simulator'),shots=Nshot)\n",
    "\n",
    "counts = job.result().get_counts()\n",
    "\n",
    "from qiskit.tools.visualization import plot_histogram\n",
    "plot_histogram(counts)"
   ]
  },
  {
   "cell_type": "markdown",
   "id": "79f7fe99",
   "metadata": {},
   "source": [
    "Recall that in interpreting these states, we need to remember the correspondence '0' $\\rightarrow\\left|+\\right\\rangle$, '1'$\\rightarrow \\left|-\\right\\rangle$. To address the phase, you can actually build this circuit in the IBM Circuit Composer and see the phase displayed. Alternatively, we can perform a series of measurements which distinguish these two states. \n",
    "\n",
    "The trick is to measure $\\hat{S}^{2} \\equiv \\left[\\hat{S}^{x}\\right]^{2} + \\left[\\hat{S}^{y}\\right]^{2} + \\left[\\hat{S}^{z}\\right]^{2}$ for both states. For a multiparticle state, we have (e.g.)\n",
    "\n",
    "$$\\hat{S}^{x} = \\hat{S}_{1}^{x} + \\hat{S}^{x}_{2},$$\n",
    "\n",
    "where $\\hat{S}^{x}_{i}$ refers to the $x$ projection of spin for the $i^{th}$ spin. To calculate this expectation value analytically, one needs to remember that <i>all</i> operators acting on a two-spin state are actually tensor products of individual operators acting on both spins, though one might be trivial. Specifically, the spin component operators are\n",
    "\n",
    "$$\\hat{S}^{x}_{1} \\equiv \\hat{S}^{x}\\otimes\\hat{I},$$\n",
    "$$\\hat{S}^{x}_{1} \\equiv \\hat{I}\\otimes\\hat{S}^{x},$$\n",
    "\n",
    "where $\\hat{I}$ is the identity operator and $\\hat{S}^{x}$ is the usual operator corresponding to the $x$ projection of a single spin, represented by a $2\\times 2$ matrix. Fortunately, this distinction is not important for our experimental approach. \n",
    "\n",
    "Let's take a step back: in order to calculate $\\hat{S}^{2}$, we'll need to measure <i>six</i> quantities: the three components of spin for each of the two spins. We also have to do this for both types of two-particle states, so that's really 12 separate circuits. As a matter of efficiency, it is technically possible to reset the state after a spin is measured. But this adds to the depth of the circuit and makes deciphering the results a little more complicated since we have to write everything to a single classical register. We can adopt one of several approaches: (1) make twelve two-qubit circuits and send out twelve jobs, (2) bundle (say) three uncoupled, two-qubit circuits together and send out four six-qubit circuits, or (3) get clever with <i>parameter</i> threading and try to bundle. Some benefits and drawbacks to each approach:\n",
    "\n",
    "1. This is conceptually simplest, but it does involve writing twelve separate circuits and sending out a large number of individual jobs. Results are naturally organized, but there's more upfront work. Also, one might run into significant wait times if sending a large number of jobs out one at a time.\n",
    "2. This is a nice middle-ground because it reduces the number of circuits by a factor of three. However, it involves using a larger classical register that must be deciphered. Instead of seeing (for example) '1' as a measurement, one will see something like '011' which must be split into '0', '1', and '1' for analysis.\n",
    "3. The last approach has the benefit of bundling as much as possible as a single job <i>and</i> neatly organizing the individual measurements. The biggest drawback is the added complexity of figuring out an efficient way of threading the parameters <i>and</i> desigining a flexible-but-efficient circuit that can perform multiple tasks according to a set of parameters."
   ]
  },
  {
   "cell_type": "markdown",
   "id": "ca85adc0",
   "metadata": {},
   "source": [
    "Here's a fairly reasonable middle ground: A spin measurement is fairly easy to be cast in terms of parameters. We have already seen how to perform a spin measurement in some arbitrary direction $\\hat{n}(\\theta,\\phi)$. $\\hat{S}^{x}$ corresponds to $\\theta = \\frac{\\pi}{2}$, $\\phi = 0$, $\\hat{S}^{y}$ corresponds to $\\theta = \\frac{\\pi}{2}$, $\\phi = \\frac{\\pi}{2}$, and $\\hat{S}^{z}$ corresponds to $\\theta = 0$, $\\phi = 0$ (or anything). Since the states are entangled, measuring one spin determines which value will be obtained from the measurement of the second spin (along that same direction). So we have to do these spin measurements independently (doubling the number of circuits, or at least the depth!). We'll make two copies of each state on a four-qubit circuit with the top two qubits for measuring the first spin and the bottom two for measuring the second spin. Each \"subcircuit\" is an identical set of gates with only the measurement differing. This <i>will</i> complicate the output, but it's not too bad with only two measurements. We need something like:"
   ]
  },
  {
   "cell_type": "code",
   "execution_count": 20,
   "id": "e40524e3",
   "metadata": {},
   "outputs": [],
   "source": [
    "qr = QuantumRegister(2)\n",
    "cr = ClassicalRegister(2)\n",
    "\n",
    "from qiskit.circuit import Parameter\n",
    "theta = Parameter('θ')\n",
    "phi = Parameter('ϕ')"
   ]
  },
  {
   "cell_type": "code",
   "execution_count": 21,
   "id": "03014c5f",
   "metadata": {},
   "outputs": [
    {
     "data": {
      "text/html": [
       "<pre style=\"word-wrap: normal;white-space: pre;background: #fff0;line-height: 1.1;font-family: &quot;Courier New&quot;,Courier,monospace\">       ┌───┐     ┌───┐ ░ ┌────────────┐┌────────────┐┌─┐   \n",
       "q27_0: ┤ H ├──■──┤ Z ├─░─┤ RZ(-1.0*ϕ) ├┤ RY(-1.0*θ) ├┤M├───\n",
       "       ├───┤┌─┴─┐└───┘ ░ ├────────────┤├────────────┤└╥┘┌─┐\n",
       "q27_1: ┤ X ├┤ X ├──────░─┤ RZ(-1.0*ϕ) ├┤ RY(-1.0*θ) ├─╫─┤M├\n",
       "       └───┘└───┘      ░ └────────────┘└────────────┘ ║ └╥┘\n",
       " c4: 2/═══════════════════════════════════════════════╩══╩═\n",
       "                                                      0  1 </pre>"
      ],
      "text/plain": [
       "       ┌───┐     ┌───┐ ░ ┌────────────┐┌────────────┐┌─┐   \n",
       "q27_0: ┤ H ├──■──┤ Z ├─░─┤ RZ(-1.0*ϕ) ├┤ RY(-1.0*θ) ├┤M├───\n",
       "       ├───┤┌─┴─┐└───┘ ░ ├────────────┤├────────────┤└╥┘┌─┐\n",
       "q27_1: ┤ X ├┤ X ├──────░─┤ RZ(-1.0*ϕ) ├┤ RY(-1.0*θ) ├─╫─┤M├\n",
       "       └───┘└───┘      ░ └────────────┘└────────────┘ ║ └╥┘\n",
       " c4: 2/═══════════════════════════════════════════════╩══╩═\n",
       "                                                      0  1 "
      ]
     },
     "execution_count": 21,
     "metadata": {},
     "output_type": "execute_result"
    }
   ],
   "source": [
    "singletcirc = QuantumCircuit(qr,cr)\n",
    "#singlet state\n",
    "singletcirc.h(0)\n",
    "singletcirc.x(1)\n",
    "singletcirc.cnot(0,1)\n",
    "singletcirc.z(0)\n",
    "singletcirc.barrier(qr)\n",
    "singletcirc.rz(-phi,qr)\n",
    "singletcirc.ry(-theta,qr)\n",
    "singletcirc.measure(qr, cr)\n",
    "singletcirc.draw()"
   ]
  },
  {
   "cell_type": "markdown",
   "id": "352f4590",
   "metadata": {},
   "source": [
    "Our results will be a package of three (one for each choice of $(\\theta,\\phi)$) dictionaries containing counts for the states '11', '00', '10', '01'. So a bit of post-processing is necesssary to make sense of this. Let's have a look at how this behaves on the QASM simulator. "
   ]
  },
  {
   "cell_type": "code",
   "execution_count": 22,
   "id": "35dea17e",
   "metadata": {},
   "outputs": [],
   "source": [
    "theta_range = [np.pi/2, np.pi/2, 0.0]\n",
    "phi_range = [0.0, np.pi/2, 0.0]\n",
    "\n",
    "Nshots = 8192\n",
    "job = execute(singletcirc,shots=Nshots,\n",
    "              backend=BasicAer.get_backend('qasm_simulator'),\n",
    "              parameter_binds=[{theta: val1, phi: val2} for (val1, val2) in zip(theta_range, phi_range)])\n",
    "\n",
    "counts_singlet = job.result().get_counts()"
   ]
  },
  {
   "cell_type": "code",
   "execution_count": 23,
   "id": "6c7ba4b6",
   "metadata": {},
   "outputs": [
    {
     "data": {
      "text/plain": [
       "[{'10': 4141, '01': 4051}, {'01': 4087, '10': 4105}, {'01': 4134, '10': 4058}]"
      ]
     },
     "execution_count": 23,
     "metadata": {},
     "output_type": "execute_result"
    }
   ],
   "source": [
    "counts_singlet"
   ]
  },
  {
   "cell_type": "markdown",
   "id": "9124c26f",
   "metadata": {},
   "source": [
    "The other state can be attacked similarly (and then we'll get to analyzing those counts)"
   ]
  },
  {
   "cell_type": "code",
   "execution_count": 10,
   "id": "3a441fab",
   "metadata": {},
   "outputs": [
    {
     "data": {
      "image/png": "[encoded data removed]",
      "text/plain": [
       "<Figure size 534.395x204.68 with 1 Axes>"
      ]
     },
     "execution_count": 10,
     "metadata": {},
     "output_type": "execute_result"
    }
   ],
   "source": [
    "tripletcirc = QuantumCircuit(qr,cr)\n",
    "#triplet state\n",
    "tripletcirc.h(0)\n",
    "tripletcirc.x(1)\n",
    "tripletcirc.cnot(0,1)\n",
    "tripletcirc.barrier(qr)\n",
    "tripletcirc.rz(-phi,qr)\n",
    "tripletcirc.ry(-theta,qr)\n",
    "tripletcirc.measure(qr, cr)\n",
    "tripletcirc.draw()"
   ]
  },
  {
   "cell_type": "code",
   "execution_count": 11,
   "id": "5ba6f1f7",
   "metadata": {},
   "outputs": [],
   "source": [
    "Nshots = 8192\n",
    "job = execute(tripletcirc,shots=Nshots,\n",
    "              backend=BasicAer.get_backend('qasm_simulator'),\n",
    "              parameter_binds=[{theta: val1, phi: val2} for (val1, val2) in zip(theta_range, phi_range)])\n",
    "\n",
    "counts_triplet = job.result().get_counts()"
   ]
  },
  {
   "cell_type": "code",
   "execution_count": 12,
   "id": "14d9f778",
   "metadata": {},
   "outputs": [
    {
     "data": {
      "text/plain": [
       "[{'11': 4023, '00': 4169}, {'00': 4119, '11': 4073}, {'10': 4115, '01': 4077}]"
      ]
     },
     "execution_count": 12,
     "metadata": {},
     "output_type": "execute_result"
    }
   ],
   "source": [
    "counts_triplet"
   ]
  },
  {
   "cell_type": "markdown",
   "id": "5cb32d2f",
   "metadata": {},
   "source": [
    "<!--Clearly there <i>is</i> some difference. For the singlet, all spin components return perfectly (up to statistical fluctuations) anticorrelated results. One should never work harder than necessary, so let's try to find the easiest way to interpret these results.-->\n",
    "\n",
    "We are attempting to measure the squared spin operator, \n",
    "\n",
    "$$\\hat{S}^{2} = \\left[\\hat{S}_{1}^{x} + \\hat{S}_{2}^{x}\\right]^{2} + \\left[\\hat{S}_{1}^{y} + \\hat{S}_{2}^{y}\\right]^{2} + \\left[\\hat{S}_{1}^{z} + \\hat{S}_{2}^{z}\\right]^{2}$$\n",
    "\n",
    "Here $\\hat{S}_{1,2}^{x,y,z}$ are just spin-$\\frac{1}{2}$ operators attached to an identity operator for the other spin. Thus, they satisfy the same algebra as the spin-$\\frac{1}{2}$ operators. Simplifying, we have\n",
    "\n",
    "$$\\hat{S}^{2} = \\hat{S}_{1}^{2} + \\hat{S}_{2}^{2} + 2\\hat{\\bf S}_{1}\\cdot \\hat{\\bf S}_{2}$$\n",
    "\n",
    "Here, $\\hat{S}_{1}^{2} \\equiv \\left[\\hat{S}_{1}^{x}\\right]^{2} + \\left[\\hat{S}_{1}^{y}\\right]^{2} + \\left[\\hat{S}_{1}^{z}\\right]^{2}$ and similarly for $\\hat{S}_{2}^{2}$. The last term is shorthand for\n",
    "\n",
    "$$\\hat{\\bf S}_{1}\\cdot \\hat{\\bf S}_{2} = \\hat{S}^{x}\\otimes \\hat{S}^{x} + \\hat{S}^{y}\\otimes \\hat{S}^{y} + \\hat{S}^{z}\\otimes \\hat{S}^{z}.$$\n",
    "\n",
    "It's simple enough to use the $2\\times 2$ Pauli representation of the single spin-$\\frac{1}{2}$ operators to show\n",
    "\n",
    "$$\\hat{S}_{1}^{2} = \\hat{S}_{2}^{2} = \\frac{3\\hbar^{2}}{4}\\hat{I}.$$\n",
    "\n",
    "Thus, for some state $\\left|\\psi\\right\\rangle$, we expect an average of a large number of measurements of $\\hat{S}^{2}$ to yield\n",
    "\n",
    "$$\\left\\langle \\hat{S}^{2}\\right\\rangle = \\frac{3\\hbar^{2}}{2} + 2\\left\\langle \\hat{\\bf S}_{1} \\cdot \\hat{\\bf S}_{2}\\right\\rangle.$$\n",
    "\n",
    "That is, effectively we only need to measure $\\left\\langle \\hat{\\bf S}_{1} \\cdot \\hat{\\bf S}_{2}\\right\\rangle$ to measure $\\hat{S}^{2}$. Conveniently, the three sets of outputs correspond to the three terms in\n",
    "\n",
    "$$\\hat{\\bf S}_{1}\\cdot \\hat{\\bf S}_{2} = \\hat{S}^{x}\\otimes \\hat{S}^{x} + \\hat{S}^{y}\\otimes \\hat{S}^{y} + \\hat{S}^{z}\\otimes \\hat{S}^{z}.$$\n",
    "\n",
    "We just need to make the identifications (using $x$ as an example)\n",
    "\n",
    "- '00': $\\;\\;\\;\\;\\;\\;\\;\\;\\;\\;\\hat{S}_{1}^{x}\\cdot\\hat{S}_{2}^{x} \\rightarrow \\left(+\\frac{\\hbar}{2}\\right)\\left(+\\frac{\\hbar}{2}\\right) = + \\left(\\frac{\\hbar}{2}\\right)^{2}$\n",
    "- '01': $\\;\\;\\;\\;\\;\\;\\;\\;\\;\\;\\hat{S}_{1}^{x}\\cdot\\hat{S}_{2}^{x} \\rightarrow \\left(+\\frac{\\hbar}{2}\\right)\\left(-\\frac{\\hbar}{2}\\right) = - \\left(\\frac{\\hbar}{2}\\right)^{2}$\n",
    "- '10': $\\;\\;\\;\\;\\;\\;\\;\\;\\;\\;\\hat{S}_{1}^{x}\\cdot\\hat{S}_{2}^{x} \\rightarrow \\left(-\\frac{\\hbar}{2}\\right)\\left(+\\frac{\\hbar}{2}\\right) = - \\left(\\frac{\\hbar}{2}\\right)^{2}$\n",
    "- '11': $\\;\\;\\;\\;\\;\\;\\;\\;\\;\\;\\hat{S}_{1}^{x}\\cdot\\hat{S}_{2}^{x} \\rightarrow \\left(-\\frac{\\hbar}{2}\\right)\\left(-\\frac{\\hbar}{2}\\right) = + \\left(\\frac{\\hbar}{2}\\right)^{2}$\n",
    "\n",
    "So let's grab the counts and compute the spin correlations according to this dictionary:"
   ]
  },
  {
   "cell_type": "code",
   "execution_count": 14,
   "id": "a36bf26d",
   "metadata": {},
   "outputs": [],
   "source": [
    "n00 = list(map(lambda c: c.get('00', 0), counts_triplet))\n",
    "n01 = list(map(lambda c: c.get('01', 0), counts_triplet))\n",
    "n10 = list(map(lambda c: c.get('10', 0), counts_triplet))\n",
    "n11 = list(map(lambda c: c.get('11', 0), counts_triplet))"
   ]
  },
  {
   "cell_type": "markdown",
   "id": "b6b6b5e0",
   "metadata": {},
   "source": [
    "Next we effectively perform an average of the measurement outcomes ($\\pm\\frac{\\hbar^{2}}{4}$ depending on the relative aligmnent of the two spins, weighted by the number of counts for each possibility:"
   ]
  },
  {
   "cell_type": "code",
   "execution_count": 15,
   "id": "9836f0c7",
   "metadata": {},
   "outputs": [],
   "source": [
    "Sx12 = 0.25*(n00[0]+n11[0]-n01[0]-n10[0])/(n00[0]+n11[0]+n01[0]+n10[0])\n",
    "Sy12 = 0.25*(n00[1]+n11[1]-n01[1]-n10[1])/(n00[1]+n11[1]+n01[1]+n10[1])\n",
    "Sz12 = 0.25*(n00[2]+n11[2]-n01[2]-n10[2])/(n00[2]+n11[2]+n01[2]+n10[2])"
   ]
  },
  {
   "cell_type": "markdown",
   "id": "5ab1262c",
   "metadata": {},
   "source": [
    "Lastly, we compute (for the triplet state):\n",
    "\n",
    "$$\\left\\langle \\hat{S}^{2}\\right\\rangle  = \\frac{3\\hbar^{2}}{2} + \\left\\langle\\hat{\\bf S}_{1}\\cdot {\\bf S}_{2}\\right\\rangle$$"
   ]
  },
  {
   "cell_type": "code",
   "execution_count": 16,
   "id": "49ac98cf",
   "metadata": {},
   "outputs": [
    {
     "data": {
      "text/plain": [
       "2.0"
      ]
     },
     "execution_count": 16,
     "metadata": {},
     "output_type": "execute_result"
    }
   ],
   "source": [
    "print(0.75+0.75+2*(Sz12+Sx12+Sy12))"
   ]
  },
  {
   "cell_type": "markdown",
   "id": "94fb233d",
   "metadata": {},
   "source": [
    "Repeating for the singlet state:"
   ]
  },
  {
   "cell_type": "code",
   "execution_count": null,
   "id": "41603cbf",
   "metadata": {},
   "outputs": [],
   "source": [
    "n00 = list(map(lambda c: c.get('00', 0), counts_singlet))\n",
    "n01 = list(map(lambda c: c.get('01', 0), counts_singlet))\n",
    "n10 = list(map(lambda c: c.get('10', 0), counts_singlet))\n",
    "n11 = list(map(lambda c: c.get('11', 0), counts_singlet))\n",
    "\n",
    "\n",
    "Sx12 = 0.25*(n00[0]+n11[0]-n01[0]-n10[0])/(n00[0]+n11[0]+n01[0]+n10[0])\n",
    "Sy12 = 0.25*(n00[1]+n11[1]-n01[1]-n10[1])/(n00[1]+n11[1]+n01[1]+n10[1])\n",
    "Sz12 = 0.25*(n00[2]+n11[2]-n01[2]-n10[2])/(n00[2]+n11[2]+n01[2]+n10[2])\n",
    "\n",
    "print(0.75+0.75+2*(Sz12+Sx12+Sy12))"
   ]
  },
  {
   "cell_type": "markdown",
   "id": "053a978e",
   "metadata": {},
   "source": [
    "Inserting the \"missing\" factors of $\\hbar$, we conclude\n",
    "\n",
    "$$\\left\\langle \\hat{S}^{2}\\right\\rangle = \\left\\{\\begin{array}{cc} 1\\cdot(1+1)\\hbar^{2} & (\\mbox{triplet})\\\\ 0 & (\\mbox{singlet})\\end{array}\\right.$$\n",
    "\n",
    "Single qubits map to spin-$\\frac{1}{2}$ degrees of freedom. When we consider the state describing multiple qubits, we find that such a state can map to a general spin-$s$ state for which$^{\\dagger}$ $\\hat{S}^{2} \\rightarrow s(s+1)\\hbar^{2}\\hat{I}$ with $s = 0,\\frac{1}{2},1,\\frac{3}{2},\\cdots$. Comparing this to our observations, we find that the triplet state is actually a spin-$1$ state, while the singlet is spin-0 (no internal spin degree of freedom). \n",
    "\n",
    "$\\dagger$ - The squared-spin operator only takes on this simple form in the basis of total spin $s$ eigenstates.\n",
    "\n",
    "Now let us try running this on real hardware. Remember that it's a good idea to print out your job IDs so you can easily grab the appropriate data if you ever need to reanalyze it."
   ]
  },
  {
   "cell_type": "code",
   "execution_count": 19,
   "id": "3357f64a",
   "metadata": {},
   "outputs": [],
   "source": [
    "qcomp = provider.get_backend('ibmq_manila')"
   ]
  },
  {
   "cell_type": "code",
   "execution_count": 20,
   "id": "b537e1b7",
   "metadata": {},
   "outputs": [
    {
     "name": "stdout",
     "output_type": "stream",
     "text": [
      "Job Status: job has successfully run\n",
      "61351da09b2ca931ac4946b1\n"
     ]
    }
   ],
   "source": [
    "Nshots = 8192\n",
    "qcomp = provider.get_backend('ibmq_manila')\n",
    "job = execute(singletcirc,\n",
    "        backend=qcomp,shots=8192,\n",
    "        parameter_binds=[{theta: val1, phi: val2} for (val1, val2) in zip(theta_range, phi_range)])\n",
    "\n",
    "from qiskit.tools.monitor import job_monitor\n",
    "job_monitor(job)\n",
    "\n",
    "counts_sing = job.result().get_counts()\n",
    "print(job.job_id())"
   ]
  },
  {
   "cell_type": "code",
   "execution_count": 21,
   "id": "ccaaf4ee",
   "metadata": {},
   "outputs": [
    {
     "name": "stdout",
     "output_type": "stream",
     "text": [
      "Job Status: job has successfully run\n",
      "61351db856b0387b1cf4c2ab\n"
     ]
    }
   ],
   "source": [
    "Nshots = 8192\n",
    "qcomp = provider.get_backend('ibmq_manila')\n",
    "job = execute(tripletcirc,\n",
    "        backend=qcomp,shots=8192,\n",
    "        parameter_binds=[{theta: val1, phi: val2} for (val1, val2) in zip(theta_range, phi_range)])\n",
    "\n",
    "job_monitor(job)\n",
    "counts_trip = job.result().get_counts()\n",
    "print(job.job_id())"
   ]
  },
  {
   "cell_type": "code",
   "execution_count": 33,
   "id": "359718e5",
   "metadata": {},
   "outputs": [
    {
     "name": "stdout",
     "output_type": "stream",
     "text": [
      "<S^2> = 0.18408203125\n"
     ]
    }
   ],
   "source": [
    "n00 = list(map(lambda c: c.get('00', 0), counts_sing))\n",
    "n01 = list(map(lambda c: c.get('01', 0), counts_sing))\n",
    "n10 = list(map(lambda c: c.get('10', 0), counts_sing))\n",
    "n11 = list(map(lambda c: c.get('11', 0), counts_sing))\n",
    "\n",
    "\n",
    "Sx12s = 0.25*(n00[0]+n11[0]-n01[0]-n10[0])/(n00[0]+n11[0]+n01[0]+n10[0])\n",
    "Sy12s = 0.25*(n00[1]+n11[1]-n01[1]-n10[1])/(n00[1]+n11[1]+n01[1]+n10[1])\n",
    "Sz12s = 0.25*(n00[2]+n11[2]-n01[2]-n10[2])/(n00[2]+n11[2]+n01[2]+n10[2])\n",
    "\n",
    "Ssq = 0.75+0.75+2*(Sz12s+Sx12s+Sy12s)\n",
    "print('<S^2> = ' + str(Ssq) + ' (singlet)')"
   ]
  },
  {
   "cell_type": "code",
   "execution_count": 34,
   "id": "f2f24e5a",
   "metadata": {},
   "outputs": [
    {
     "name": "stdout",
     "output_type": "stream",
     "text": [
      "<S^2> = 1.8765869140625\n"
     ]
    }
   ],
   "source": [
    "n00 = list(map(lambda c: c.get('00', 0), counts_trip))\n",
    "n01 = list(map(lambda c: c.get('01', 0), counts_trip))\n",
    "n10 = list(map(lambda c: c.get('10', 0), counts_trip))\n",
    "n11 = list(map(lambda c: c.get('11', 0), counts_trip))\n",
    "\n",
    "\n",
    "Sx12t = 0.25*(n00[0]+n11[0]-n01[0]-n10[0])/(n00[0]+n11[0]+n01[0]+n10[0])\n",
    "Sy12t = 0.25*(n00[1]+n11[1]-n01[1]-n10[1])/(n00[1]+n11[1]+n01[1]+n10[1])\n",
    "Sz12t = 0.25*(n00[2]+n11[2]-n01[2]-n10[2])/(n00[2]+n11[2]+n01[2]+n10[2])\n",
    "\n",
    "Ssq = 0.75+0.75+2*(Sz12t+Sx12t+Sy12t)\n",
    "print('<S^2> = ' + str(Ssq) + ' (triplet)')"
   ]
  },
  {
   "cell_type": "markdown",
   "id": "a588e124",
   "metadata": {},
   "source": [
    "The results are a bit noisier, but roughly agree with the simulation prediction. \n",
    "\n",
    "This quantity $\\left\\langle \\hat{\\bf S}_{1}\\cdot\\hat{\\bf S}_{2}\\right\\rangle$ is actually an example of something refered to as a <i>correlation function</i>. If we take a closer look at the invidual pieces, we can gain some insight into the quantum state:"
   ]
  },
  {
   "cell_type": "code",
   "execution_count": 36,
   "id": "3c0b26e1",
   "metadata": {},
   "outputs": [
    {
     "name": "stdout",
     "output_type": "stream",
     "text": [
      "<Sx1 Sx2> = -0.219482421875\n",
      "<Sy1 Sy2> = -0.21673583984375\n",
      "<Sz1 Sz2> = -0.22174072265625\n"
     ]
    }
   ],
   "source": [
    "print('<Sx1 Sx2> = '+str(Sx12s))\n",
    "print('<Sy1 Sy2> = '+str(Sy12s))\n",
    "print('<Sz1 Sz2> = '+str(Sz12s))"
   ]
  },
  {
   "cell_type": "code",
   "execution_count": 37,
   "id": "129e4eea",
   "metadata": {},
   "outputs": [
    {
     "name": "stdout",
     "output_type": "stream",
     "text": [
      "<Sx1 Sx2> = 0.2117919921875\n",
      "<Sy1 Sy2> = 0.18548583984375\n",
      "<Sz1 Sz2> = -0.208984375\n"
     ]
    }
   ],
   "source": [
    "print('<Sx1 Sx2> = '+str(Sx12t))\n",
    "print('<Sy1 Sy2> = '+str(Sy12t))\n",
    "print('<Sz1 Sz2> = '+str(Sz12t))"
   ]
  },
  {
   "cell_type": "markdown",
   "id": "704feabc",
   "metadata": {},
   "source": [
    "Both states show anticorrelation in the individual measurements of $\\hat{S}^{z}$. This makes sense, because both states are composed of $\\left|+-\\right\\rangle$ and $\\left|-+\\right\\rangle$, so there's no possible way to have both spins in the same eigenstate of $\\hat{S}^{z}$. That relative phase ($e^{i0} = 1$ vs. $e^{i\\pi} = -1$ makes a significant difference in the correlations between the spins with respect to $\\hat{S}^{x}$ and $\\hat{S}^{y}$. \n",
    "\n",
    "For the \"triplet\" state, the positive correlations $\\left\\langle \\hat{S}^{x}_{1}\\hat{S}_{2}^{x}\\right\\rangle$ and $\\left\\langle \\hat{S}^{y}_{1}\\hat{S}_{2}^{y}\\right\\rangle$ indicate that the $x$ and $y$ projections of the individual spins have a tendency to align. Classically, one thinks of spin as a little arrow of magnitude $\\frac{\\hbar}{2}$ which points along some axis in three-dimensional space. Combining two spins results in a new type of quantum state whose interpretation is not so simple. It is possible to identify this state as an effective spin-1 state with $\\left\\langle \\hat{S}^{z} \\right\\rangle = 0$. In the classical picture, this corresponds to a little vector of magnitude $\\hbar$ which has no projection along $z$ and lives in the $xy$ plane. Of course, this state <i>isn't</i> a classical vector in real space. But this sloppy picture is roughly reflected in the structure of the correlations. \n",
    "\n",
    "The singlet state is a bit more interesting. All correlations are negative. The individual spins appear <i>entirely</i> anticorrelated, regardless of the direction. Consequently, it should not be too surprising to learn that this two-particle state can be viewed effectively as a spinless ($s = 0$) state. To really drive home these correlations, let's look more closely at how they change for both states as the spin axis is varied. For simplicity, let's just keep $\\phi = 0$ and vary $\\theta$ from 0 to $\\pi$. To proceed, we thread a sample of $\\theta$ values into the circuit to bundle everything together."
   ]
  },
  {
   "cell_type": "code",
   "execution_count": 40,
   "id": "1a3da7ca",
   "metadata": {},
   "outputs": [
    {
     "data": {
      "image/png": "[encoded data removed]",
      "text/plain": [
       "<Figure size 547.521x204.68 with 1 Axes>"
      ]
     },
     "execution_count": 40,
     "metadata": {},
     "output_type": "execute_result"
    }
   ],
   "source": [
    "singletcircθ = QuantumCircuit(qr,cr)\n",
    "#singlet state\n",
    "singletcircθ.h(0)\n",
    "singletcircθ.x(1)\n",
    "singletcircθ.cnot(0,1)\n",
    "singletcircθ.z(0)\n",
    "singletcircθ.barrier(qr)\n",
    "singletcircθ.ry(-theta,qr)\n",
    "singletcircθ.measure(qr, cr)\n",
    "singletcircθ.draw()"
   ]
  },
  {
   "cell_type": "code",
   "execution_count": 41,
   "id": "c732c122",
   "metadata": {},
   "outputs": [
    {
     "data": {
      "image/png": "[encoded data removed]",
      "text/plain": [
       "<Figure size 487.321x204.68 with 1 Axes>"
      ]
     },
     "execution_count": 41,
     "metadata": {},
     "output_type": "execute_result"
    }
   ],
   "source": [
    "tripletcircθ = QuantumCircuit(qr,cr)\n",
    "#triplet state\n",
    "tripletcircθ.h(0)\n",
    "tripletcircθ.x(1)\n",
    "tripletcircθ.cnot(0,1)\n",
    "tripletcircθ.barrier(qr)\n",
    "tripletcircθ.ry(-theta,qr)\n",
    "tripletcircθ.measure(qr, cr)\n",
    "tripletcircθ.draw()"
   ]
  },
  {
   "cell_type": "markdown",
   "id": "2d6cf197",
   "metadata": {},
   "source": [
    "It's always a good idea to check the computer you plan to use before setting a range of parameter values. Different machines accept a different number of circuits per job. If you get a strange-looking error, make sure the following number of $\\theta$ samples isn't too large."
   ]
  },
  {
   "cell_type": "code",
   "execution_count": 52,
   "id": "2016faea",
   "metadata": {},
   "outputs": [],
   "source": [
    "Ntheta = 75\n",
    "theta_range = np.linspace(0,np.pi,Ntheta)"
   ]
  },
  {
   "cell_type": "markdown",
   "id": "26145d83",
   "metadata": {},
   "source": [
    "We'll run both of these on the simulator and on a quantum device."
   ]
  },
  {
   "cell_type": "code",
   "execution_count": 53,
   "id": "64d6e0d8",
   "metadata": {},
   "outputs": [],
   "source": [
    "Nshots = 8192\n",
    "job = execute(tripletcircθ,shots=Nshots,\n",
    "              backend=BasicAer.get_backend('qasm_simulator'),\n",
    "              parameter_binds=[{theta: val1} for val1 in theta_range])\n",
    "\n",
    "counts_tripθsim = job.result().get_counts()"
   ]
  },
  {
   "cell_type": "code",
   "execution_count": 54,
   "id": "6d1a1347",
   "metadata": {},
   "outputs": [],
   "source": [
    "Nshots = 8192\n",
    "job = execute(singletcircθ,shots=Nshots,\n",
    "              backend=BasicAer.get_backend('qasm_simulator'),\n",
    "              parameter_binds=[{theta: val1} for val1 in theta_range])\n",
    "\n",
    "counts_singθsim = job.result().get_counts()"
   ]
  },
  {
   "cell_type": "code",
   "execution_count": 56,
   "id": "e87a8e45",
   "metadata": {},
   "outputs": [
    {
     "name": "stdout",
     "output_type": "stream",
     "text": [
      "Job Status: job has successfully run\n",
      "61352b291b9435162a1005ed\n"
     ]
    }
   ],
   "source": [
    "Nshots = 8192\n",
    "qcomp = provider.get_backend('ibmq_manila')\n",
    "job = execute(singletcircθ,\n",
    "        backend=qcomp,shots=8192,\n",
    "        parameter_binds=[{theta: val1} for val1 in theta_range])\n",
    "\n",
    "job_monitor(job)\n",
    "\n",
    "counts_singθ = job.result().get_counts()\n",
    "print(job.job_id())"
   ]
  },
  {
   "cell_type": "code",
   "execution_count": 57,
   "id": "a379affc",
   "metadata": {},
   "outputs": [
    {
     "name": "stdout",
     "output_type": "stream",
     "text": [
      "Job Status: job has successfully run\n",
      "61352bed61ab236b0cbeb9ed\n"
     ]
    }
   ],
   "source": [
    "Nshots = 8192\n",
    "qcomp = provider.get_backend('ibmq_manila')\n",
    "job = execute(tripletcircθ,\n",
    "        backend=qcomp,shots=8192,\n",
    "        parameter_binds=[{theta: val1} for val1 in theta_range])\n",
    "\n",
    "job_monitor(job)\n",
    "\n",
    "counts_tripθ = job.result().get_counts()\n",
    "print(job.job_id())"
   ]
  },
  {
   "cell_type": "markdown",
   "id": "9d01fa1d",
   "metadata": {},
   "source": [
    "The analysis is roughly the same, but with <i>many</i> values of $\\theta$, we're better off letting a loop organize everything:"
   ]
  },
  {
   "cell_type": "code",
   "execution_count": 58,
   "id": "bc2e6f52",
   "metadata": {},
   "outputs": [],
   "source": [
    "S1S2tripsim = np.zeros(Ntheta)\n",
    "S1S2singsim = np.zeros(Ntheta)\n",
    "S1S2trip = np.zeros(Ntheta)\n",
    "S1S2sing = np.zeros(Ntheta)\n",
    "\n",
    "n00 = list(map(lambda c: c.get('00', 0), counts_tripθsim))\n",
    "n01 = list(map(lambda c: c.get('01', 0), counts_tripθsim))\n",
    "n10 = list(map(lambda c: c.get('10', 0), counts_tripθsim))\n",
    "n11 = list(map(lambda c: c.get('11', 0), counts_tripθsim))\n",
    "\n",
    "for i in range(0,Ntheta):\n",
    "    S1S2tripsim[i] = 0.25*(n00[i]+n11[i]-n01[i]-n10[i])/(n00[i]+n11[i]+n01[i]+n10[i])\n",
    "    \n",
    "n00 = list(map(lambda c: c.get('00', 0), counts_singθsim))\n",
    "n01 = list(map(lambda c: c.get('01', 0), counts_singθsim))\n",
    "n10 = list(map(lambda c: c.get('10', 0), counts_singθsim))\n",
    "n11 = list(map(lambda c: c.get('11', 0), counts_singθsim))\n",
    "\n",
    "for i in range(0,Ntheta):\n",
    "    S1S2singsim[i] = 0.25*(n00[i]+n11[i]-n01[i]-n10[i])/(n00[i]+n11[i]+n01[i]+n10[i])\n",
    "    \n",
    "n00 = list(map(lambda c: c.get('00', 0), counts_tripθ))\n",
    "n01 = list(map(lambda c: c.get('01', 0), counts_tripθ))\n",
    "n10 = list(map(lambda c: c.get('10', 0), counts_tripθ))\n",
    "n11 = list(map(lambda c: c.get('11', 0), counts_tripθ))\n",
    "\n",
    "for i in range(0,Ntheta):\n",
    "    S1S2trip[i] = 0.25*(n00[i]+n11[i]-n01[i]-n10[i])/(n00[i]+n11[i]+n01[i]+n10[i])\n",
    "    \n",
    "n00 = list(map(lambda c: c.get('00', 0), counts_singθ))\n",
    "n01 = list(map(lambda c: c.get('01', 0), counts_singθ))\n",
    "n10 = list(map(lambda c: c.get('10', 0), counts_singθ))\n",
    "n11 = list(map(lambda c: c.get('11', 0), counts_singθ))\n",
    "\n",
    "for i in range(0,Ntheta):\n",
    "    S1S2sing[i] = 0.25*(n00[i]+n11[i]-n01[i]-n10[i])/(n00[i]+n11[i]+n01[i]+n10[i])\n"
   ]
  },
  {
   "cell_type": "code",
   "execution_count": 62,
   "id": "250e1302",
   "metadata": {},
   "outputs": [
    {
     "data": {
      "image/png": "[encoded data removed]",
      "text/plain": [
       "<Figure size 432x288 with 1 Axes>"
      ]
     },
     "metadata": {
      "needs_background": "light"
     },
     "output_type": "display_data"
    }
   ],
   "source": [
    "from matplotlib import pyplot as plt\n",
    "\n",
    "plt.plot(theta_range,S1S2sing,'bo',label='singlet')\n",
    "plt.plot(theta_range,S1S2trip,'ro',label='triplet')\n",
    "plt.plot(theta_range,S1S2singsim,'k-')\n",
    "plt.plot(theta_range,S1S2tripsim,'k-')\n",
    "plt.xlabel('θ')\n",
    "plt.ylabel('<S1S2>')\n",
    "plt.legend()\n",
    "plt.show()"
   ]
  },
  {
   "cell_type": "markdown",
   "id": "9e2f52f2",
   "metadata": {},
   "source": [
    "Agreement between simulation and actual results is fairly decent, but note that the actual correlations are never quite as large (either positive or negative) as the simulated correlations. This is a general feature of noisy systems, and these effects become more pronounced as (a) circuit depth is increased or (b) more two-qubit gates are used. The error rates for two qubit gates are roughly an order of magnitude larger than those of single qubit gates."
   ]
  },
  {
   "cell_type": "markdown",
   "id": "2c853d7b",
   "metadata": {},
   "source": [
    "<b>Exercise 1: </b> Create the singlet and triplet states as before, but perform a rotation to change them into\n",
    "\n",
    "$$\\left|\\psi'\\right\\rangle_{sing} \\rightarrow \\frac{1}{\\sqrt{2}}\\left(\\left|+\\right\\rangle_{x}\\left|-\\right\\rangle_{x} - \\left|-\\right\\rangle_{x}\\left|+\\right\\rangle_{x}\\right),$$ \n",
    "\n",
    "$$\\left|\\psi'\\right\\rangle_{trip} \\rightarrow \\frac{1}{\\sqrt{2}}\\left(\\left|+\\right\\rangle_{x}\\left|-\\right\\rangle_{x} + \\left|-\\right\\rangle_{x}\\left|+\\right\\rangle_{x}\\right),$$ \n",
    "\n",
    "If you repeat the calculation of the three correlation functions, $\\left\\langle \\hat{S}^{\\alpha}\\otimes\\hat{S}^{\\alpha}\\right\\rangle$ for $\\alpha = x,y,z$, which change and which stay the same? Discuss any possible reasons for the results you find."
   ]
  },
  {
   "cell_type": "markdown",
   "id": "3e312f37",
   "metadata": {},
   "source": [
    "<b>Solution: </b>"
   ]
  },
  {
   "cell_type": "markdown",
   "id": "ce591c53",
   "metadata": {},
   "source": [
    "The basic idea is to copy the singlet/triplet circuits from above and simply perform a rotation on qubit of 90 degrees about the $y$ axis."
   ]
  },
  {
   "cell_type": "markdown",
   "id": "a5db14f1",
   "metadata": {},
   "source": [
    "a) Singlet state"
   ]
  },
  {
   "cell_type": "code",
   "execution_count": 25,
   "id": "5a280a45",
   "metadata": {},
   "outputs": [
    {
     "name": "stdout",
     "output_type": "stream",
     "text": [
      "<SxSx> = -0.25\n",
      "<SySy> = -0.25\n",
      "<SzSz> = -0.25\n"
     ]
    }
   ],
   "source": [
    "singletcirc = QuantumCircuit(qr,cr)\n",
    "#singlet state\n",
    "singletcirc.h(0)\n",
    "singletcirc.x(1)\n",
    "singletcirc.cnot(0,1)\n",
    "singletcirc.z(0)\n",
    "singletcirc.barrier(qr)\n",
    "singletcirc.ry(np.pi/2,qr)\n",
    "singletcirc.barrier(qr)\n",
    "singletcirc.rz(-phi,qr)\n",
    "singletcirc.ry(-theta,qr)\n",
    "singletcirc.measure(qr, cr)\n",
    "singletcirc.draw()\n",
    "\n",
    "theta_range = [np.pi/2, np.pi/2, 0.0]\n",
    "phi_range = [0.0, np.pi/2, 0.0]\n",
    "\n",
    "Nshots = 8192\n",
    "job = execute(singletcirc,shots=Nshots,\n",
    "              backend=BasicAer.get_backend('qasm_simulator'),\n",
    "              parameter_binds=[{theta: val1, phi: val2} for (val1, val2) in zip(theta_range, phi_range)])\n",
    "\n",
    "counts_singlet = job.result().get_counts()\n",
    "\n",
    "n00 = list(map(lambda c: c.get('00', 0), counts_singlet))\n",
    "n01 = list(map(lambda c: c.get('01', 0), counts_singlet))\n",
    "n10 = list(map(lambda c: c.get('10', 0), counts_singlet))\n",
    "n11 = list(map(lambda c: c.get('11', 0), counts_singlet))\n",
    "\n",
    "\n",
    "Sx12s = 0.25*(n00[0]+n11[0]-n01[0]-n10[0])/(n00[0]+n11[0]+n01[0]+n10[0])\n",
    "Sy12s = 0.25*(n00[1]+n11[1]-n01[1]-n10[1])/(n00[1]+n11[1]+n01[1]+n10[1])\n",
    "Sz12s = 0.25*(n00[2]+n11[2]-n01[2]-n10[2])/(n00[2]+n11[2]+n01[2]+n10[2])\n",
    "\n",
    "print('<SxSx> = ' + str(Sx12s))\n",
    "print('<SySy> = ' + str(Sy12s))\n",
    "print('<SzSz> = ' + str(Sz12s))"
   ]
  },
  {
   "cell_type": "markdown",
   "id": "b7334006",
   "metadata": {},
   "source": [
    "So the results are the same for this \"singlet\" with respect to the $\\left|\\pm\\right\\rangle_{x}$. On to the triplet..."
   ]
  },
  {
   "cell_type": "markdown",
   "id": "35b3dbc6",
   "metadata": {},
   "source": [
    "b) Triplet state"
   ]
  },
  {
   "cell_type": "code",
   "execution_count": 27,
   "id": "b4836f59",
   "metadata": {},
   "outputs": [
    {
     "name": "stdout",
     "output_type": "stream",
     "text": [
      "<SxSx> = -0.25\n",
      "<SySy> = 0.25\n",
      "<SzSz> = 0.25\n"
     ]
    }
   ],
   "source": [
    "tripletcirc = QuantumCircuit(qr,cr)\n",
    "#triplet state\n",
    "tripletcirc.h(0)\n",
    "tripletcirc.x(1)\n",
    "tripletcirc.cnot(0,1)\n",
    "tripletcirc.barrier(qr)\n",
    "tripletcirc.ry(np.pi/2,qr)\n",
    "tripletcirc.barrier(qr)\n",
    "tripletcirc.rz(-phi,qr)\n",
    "tripletcirc.ry(-theta,qr)\n",
    "tripletcirc.measure(qr, cr)\n",
    "tripletcirc.draw()\n",
    "\n",
    "theta_range = [np.pi/2, np.pi/2, 0.0]\n",
    "phi_range = [0.0, np.pi/2, 0.0]\n",
    "\n",
    "Nshots = 8192\n",
    "job = execute(tripletcirc,shots=Nshots,\n",
    "              backend=BasicAer.get_backend('qasm_simulator'),\n",
    "              parameter_binds=[{theta: val1, phi: val2} for (val1, val2) in zip(theta_range, phi_range)])\n",
    "\n",
    "counts_triplet = job.result().get_counts()\n",
    "\n",
    "n00 = list(map(lambda c: c.get('00', 0), counts_triplet))\n",
    "n01 = list(map(lambda c: c.get('01', 0), counts_triplet))\n",
    "n10 = list(map(lambda c: c.get('10', 0), counts_triplet))\n",
    "n11 = list(map(lambda c: c.get('11', 0), counts_triplet))\n",
    "\n",
    "\n",
    "Sx12t = 0.25*(n00[0]+n11[0]-n01[0]-n10[0])/(n00[0]+n11[0]+n01[0]+n10[0])\n",
    "Sy12t = 0.25*(n00[1]+n11[1]-n01[1]-n10[1])/(n00[1]+n11[1]+n01[1]+n10[1])\n",
    "Sz12t = 0.25*(n00[2]+n11[2]-n01[2]-n10[2])/(n00[2]+n11[2]+n01[2]+n10[2])\n",
    "\n",
    "print('<SxSx> = ' + str(Sx12t))\n",
    "print('<SySy> = ' + str(Sy12t))\n",
    "print('<SzSz> = ' + str(Sz12t))"
   ]
  },
  {
   "cell_type": "markdown",
   "id": "9aaf333d",
   "metadata": {},
   "source": [
    "This is the same as for the normal triplet, but the negative correlation is along the $x$ direction instead of the $z$ direction as it was previously."
   ]
  },
  {
   "cell_type": "markdown",
   "id": "7636f396",
   "metadata": {},
   "source": [
    "<b>Exercise 2: </b> Consider a state which interpolates between the singlet and triplet state,\n",
    "\n",
    "$$\\left|\\psi(\\phi)\\right\\rangle = \\frac{1}{\\sqrt{2}}\\left(\\left|+\\right\\rangle\\left|-\\right\\rangle +e^{i\\phi}\\left|-\\right\\rangle\\left|+\\right\\rangle\\right),$$\n",
    "\n",
    "for $0 \\leq \\phi\\leq \\pi$. Calculate and plot the three correlation functions, $\\left\\langle \\hat{S}^{\\alpha}\\otimes\\hat{S}^{\\alpha}\\right\\rangle$ for $\\alpha = x,y,z$ as functions of the angle $\\phi$."
   ]
  },
  {
   "cell_type": "markdown",
   "id": "74c7e59a",
   "metadata": {},
   "source": [
    "<b>Solution: </b>"
   ]
  },
  {
   "cell_type": "markdown",
   "id": "62737c2b",
   "metadata": {},
   "source": [
    "The trick with this state is to apply a unitary gate $U(\\frac{1}{\\sqrt{2}},\\phi,0)$ instead of the basic Hadamard gate. We can use $\\phi$ as a parameter, and we don't need to final $Z$ gate to flip the sign to create a singlet state. It's easiest to calculate the correlation functions using separate circuits since $\\phi$ is already being used to parameterize the state."
   ]
  },
  {
   "cell_type": "code",
   "execution_count": 28,
   "id": "bfa0063a",
   "metadata": {},
   "outputs": [
    {
     "data": {
      "text/html": [
       "<pre style=\"word-wrap: normal;white-space: pre;background: #fff0;line-height: 1.1;font-family: &quot;Courier New&quot;,Courier,monospace\">       ┌─────────────┐      ░ ┌───────────┐┌─┐   \n",
       "q59_0: ┤ U(pi/2,ϕ,0) ├──■───░─┤ RY(-pi/2) ├┤M├───\n",
       "       └────┬───┬────┘┌─┴─┐ ░ ├───────────┤└╥┘┌─┐\n",
       "q59_1: ─────┤ X ├─────┤ X ├─░─┤ RY(-pi/2) ├─╫─┤M├\n",
       "            └───┘     └───┘ ░ └───────────┘ ║ └╥┘\n",
       " c5: 2/═════════════════════════════════════╩══╩═\n",
       "                                            0  1 </pre>"
      ],
      "text/plain": [
       "       ┌─────────────┐      ░ ┌───────────┐┌─┐   \n",
       "q59_0: ┤ U(pi/2,ϕ,0) ├──■───░─┤ RY(-pi/2) ├┤M├───\n",
       "       └────┬───┬────┘┌─┴─┐ ░ ├───────────┤└╥┘┌─┐\n",
       "q59_1: ─────┤ X ├─────┤ X ├─░─┤ RY(-pi/2) ├─╫─┤M├\n",
       "            └───┘     └───┘ ░ └───────────┘ ║ └╥┘\n",
       " c5: 2/═════════════════════════════════════╩══╩═\n",
       "                                            0  1 "
      ]
     },
     "execution_count": 28,
     "metadata": {},
     "output_type": "execute_result"
    }
   ],
   "source": [
    "phi = Parameter('ϕ')\n",
    "Nt = 75\n",
    "\n",
    "qr = QuantumRegister(2)\n",
    "cr = ClassicalRegister(2)\n",
    "\n",
    "circx = QuantumCircuit(qr,cr) \n",
    "circx.u(np.pi/2,phi,0,0)\n",
    "circx.x(1)\n",
    "circx.cnot(0,1)\n",
    "circx.barrier(qr)\n",
    "circx.ry(-np.pi/2,qr) #rotation to measure <SxSx>\n",
    "circx.measure(qr,cr)\n",
    "circx.draw()"
   ]
  },
  {
   "cell_type": "code",
   "execution_count": 31,
   "id": "c123c5ef",
   "metadata": {},
   "outputs": [],
   "source": [
    "phi_range = np.linspace(0,np.pi, Nt)\n",
    "Nshots = 8192\n",
    "\n",
    "job = execute(circx,\n",
    "              backend=BasicAer.get_backend('qasm_simulator'),shots=Nshots,\n",
    "              parameter_binds=[{phi: p_val} for p_val in phi_range])\n",
    "\n",
    "counts = job.result().get_counts()\n",
    "\n",
    "c00 = np.array(list(map(lambda c: c.get('00', 0), counts)))\n",
    "c01 = np.array(list(map(lambda c: c.get('01', 0), counts)))\n",
    "c10 = np.array(list(map(lambda c: c.get('10', 0), counts)))\n",
    "c11 = np.array(list(map(lambda c: c.get('11', 0), counts)))\n",
    "\n",
    "Sx12 = 0.25*(c00+c11-c01-c10)/(c00+c11+c01+c10)"
   ]
  },
  {
   "cell_type": "code",
   "execution_count": 34,
   "id": "65dafa59",
   "metadata": {},
   "outputs": [],
   "source": [
    "phi = Parameter('ϕ')\n",
    "Nt = 75\n",
    "\n",
    "qr = QuantumRegister(2)\n",
    "cr = ClassicalRegister(2)\n",
    "\n",
    "circy = QuantumCircuit(qr,cr) \n",
    "circy.u(np.pi/2,phi,0,0)\n",
    "circy.x(1)\n",
    "circy.cnot(0,1)\n",
    "circy.barrier(qr)\n",
    "circy.rz(-np.pi/2,qr) \n",
    "circy.ry(-np.pi/2,qr) #rotation to measure <SySy>\n",
    "circy.measure(qr,cr)\n",
    "circy.draw()\n",
    "\n",
    "job = execute(circy,\n",
    "              backend=BasicAer.get_backend('qasm_simulator'),shots=Nshots,\n",
    "              parameter_binds=[{phi: p_val} for p_val in phi_range])\n",
    "\n",
    "counts = job.result().get_counts()\n",
    "\n",
    "c00 = np.array(list(map(lambda c: c.get('00', 0), counts)))\n",
    "c01 = np.array(list(map(lambda c: c.get('01', 0), counts)))\n",
    "c10 = np.array(list(map(lambda c: c.get('10', 0), counts)))\n",
    "c11 = np.array(list(map(lambda c: c.get('11', 0), counts)))\n",
    "\n",
    "Sy12 = 0.25*(c00+c11-c01-c10)/(c00+c11+c01+c10)"
   ]
  },
  {
   "cell_type": "code",
   "execution_count": 35,
   "id": "c281197b",
   "metadata": {},
   "outputs": [],
   "source": [
    "phi = Parameter('ϕ')\n",
    "Nt = 75\n",
    "\n",
    "qr = QuantumRegister(2)\n",
    "cr = ClassicalRegister(2)\n",
    "\n",
    "circy = QuantumCircuit(qr,cr) \n",
    "circy.u(np.pi/2,phi,0,0)\n",
    "circy.x(1)\n",
    "circy.cnot(0,1)\n",
    "circy.barrier(qr)\n",
    "circy.measure(qr,cr)\n",
    "circy.draw()\n",
    "\n",
    "job = execute(circy,\n",
    "              backend=BasicAer.get_backend('qasm_simulator'),shots=Nshots,\n",
    "              parameter_binds=[{phi: p_val} for p_val in phi_range])\n",
    "\n",
    "counts = job.result().get_counts()\n",
    "\n",
    "c00 = np.array(list(map(lambda c: c.get('00', 0), counts)))\n",
    "c01 = np.array(list(map(lambda c: c.get('01', 0), counts)))\n",
    "c10 = np.array(list(map(lambda c: c.get('10', 0), counts)))\n",
    "c11 = np.array(list(map(lambda c: c.get('11', 0), counts)))\n",
    "\n",
    "Sz12 = 0.25*(c00+c11-c01-c10)/(c00+c11+c01+c10)"
   ]
  },
  {
   "cell_type": "code",
   "execution_count": 37,
   "id": "d5739e28",
   "metadata": {},
   "outputs": [
    {
     "data": {
      "image/png": "[encoded data removed]",
      "text/plain": [
       "<Figure size 432x288 with 1 Axes>"
      ]
     },
     "metadata": {
      "needs_background": "light"
     },
     "output_type": "display_data"
    }
   ],
   "source": [
    "plt.plot(phi_range,Sx12,'b.',label='<SxSx>')\n",
    "plt.plot(phi_range,Sy12,'r.',label='<SySy>')\n",
    "plt.plot(phi_range,Sz12,'k.',label='<SzSz>')\n",
    "plt.legend()\n",
    "plt.xlabel('θ')\n",
    "plt.ylabel('correlation')\n",
    "plt.show()"
   ]
  },
  {
   "cell_type": "markdown",
   "id": "5a4d5056",
   "metadata": {},
   "source": [
    "One can go through a calculation with the spin operators to show\n",
    "\n",
    "$$\\left\\langle \\hat{S}^{x}\\otimes\\hat{S}^{x}\\right\\rangle = \\left\\langle \\hat{S}^{y}\\otimes\\hat{S}^{y}\\right\\rangle  =  \\frac{\\hbar^{2}}{4}\\cos\\phi,$$\n",
    "\n",
    "while $\\left\\langle \\hat{S}^{z}\\otimes\\hat{S}^{z}\\right\\rangle  = -\\frac{\\hbar^{2}}{4}$, in agreement with the simulation."
   ]
  }
 ],
 "metadata": {
  "kernelspec": {
   "display_name": "Python 3 (ipykernel)",
   "language": "python",
   "name": "python3"
  },
  "language_info": {
   "codemirror_mode": {
    "name": "ipython",
    "version": 3
   },
   "file_extension": ".py",
   "mimetype": "text/x-python",
   "name": "python",
   "nbconvert_exporter": "python",
   "pygments_lexer": "ipython3",
   "version": "3.9.5"
  },
  "widgets": {
   "application/vnd.jupyter.widget-state+json": {
    "state": {},
    "version_major": 2,
    "version_minor": 0
   }
  }
 },
 "nbformat": 4,
 "nbformat_minor": 5
}
